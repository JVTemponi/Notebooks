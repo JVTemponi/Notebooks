{
  "cells": [
    {
      "cell_type": "code",
      "execution_count": null,
      "metadata": {
        "id": "b755ammeNJtW"
      },
      "outputs": [],
      "source": [
        "# imports necessários:\n",
        "import pandas as pd\n",
        "from pathlib import PosixPath \n",
        "from datetime import datetime\n",
        "import sqlite3 as sql\n",
        "\n",
        "#Endereço dos arquivos CSV:\n",
        "local_arquivos = PosixPath('/content/FontesDeDados')"
      ]
    },
    {
      "cell_type": "markdown",
      "source": [
        "# Coleta dos Dados"
      ],
      "metadata": {
        "id": "MuhGu9iYlj6O"
      }
    },
    {
      "cell_type": "markdown",
      "metadata": {
        "id": "wAHZjKi8NJtb"
      },
      "source": [
        "## Coleta dos dados: IBGE"
      ]
    },
    {
      "cell_type": "code",
      "execution_count": null,
      "metadata": {
        "id": "t8QjR839NJtc"
      },
      "outputs": [],
      "source": [
        "#Coletar dados dos municípios do Rio de Janeiro (site IBGE)\n",
        "url = 'https://www.ibge.gov.br/explica/codigos-dos-municipios.php#RJ'\n",
        "\n",
        "#Transformar os dados em um Data Frame\n",
        "ibge_dados_rj = pd.DataFrame(pd.read_html(url, match='Municípios do Rio de Janeiro')[0])\n",
        "\n",
        "#Ajustar a nomenclatura das colunas do Data Frame:\n",
        "ibge_dados_rj = ibge_dados_rj.rename(columns = {'Municípios do Rio de Janeiro': 'nomeMunic', 'Códigos': 'codMunic'})\n",
        "\n",
        "#Adicionar coluna de tempo ao Data Frame:\n",
        "ibge_dados_rj['dtCarga'] = datetime.today().strftime('%d/%m/%Y %H:%M')\n",
        "\n",
        "#Ajustar index do Data Frame para idMunic\n",
        "ibge_dados_rj.index.name = 'idMunic'\n",
        "#Ajustar numeração do índice, para começar em 1\n",
        "ibge_dados_rj.index = ibge_dados_rj.index + 1\n"
      ]
    },
    {
      "cell_type": "markdown",
      "metadata": {
        "id": "593V0S2dNJtd"
      },
      "source": [
        "## Coleta dos dados: Delegacias"
      ]
    },
    {
      "cell_type": "markdown",
      "metadata": {
        "id": "FFBna4NYNJte"
      },
      "source": [
        "### Cadastro das Delegacias de Polícia RJ"
      ]
    },
    {
      "cell_type": "code",
      "execution_count": null,
      "metadata": {
        "id": "DYUxFRsANJtf"
      },
      "outputs": [],
      "source": [
        "#Criar Data Frame com os dados das DPs\n",
        "tb_log_dp = pd.DataFrame(pd.read_csv(local_arquivos / \"DP.csv\"))\n",
        "\n",
        "#Ajustar a nomenclatura das colunas do Data Frame:\n",
        "tb_log_dp = tb_log_dp.rename(columns = {'COD_DP': 'idDP', 'NM_DP':'nomeDP', 'Endereço':'enderDP'})\n",
        "\n",
        "#Adicionar coluna de Data e Hora da carga no Data Frame \n",
        "tb_log_dp['dtCarga'] = datetime.today().strftime('%d/%m/%Y %H:%M')\n"
      ]
    },
    {
      "cell_type": "markdown",
      "metadata": {
        "id": "rKqe1TcgNJtg"
      },
      "source": [
        "### Cadastro dos Responsáveis pelas Delegacias de Polícia RJ\n"
      ]
    },
    {
      "cell_type": "code",
      "execution_count": null,
      "metadata": {
        "id": "-sALuIRJNJtg"
      },
      "outputs": [],
      "source": [
        "#Criar Data Frame com os dados dos responsáveis pelas DPs\n",
        "tb_log_resp_dp = pd.DataFrame(pd.read_csv(local_arquivos / \"ResponsavelDP.csv\"))\n",
        "                                     \n",
        "#Ajustar a nomenclatura das colunas do Data Frame:\n",
        "tb_log_resp_dp = tb_log_resp_dp.rename(columns = {'COD_DP': 'idDP', 'Responsavel':'nomeResp'})\n",
        "\n",
        "#Adicionar coluna de Data e Hora da carga no Data Frame \n",
        "tb_log_resp_dp['dtCarga'] = datetime.today().strftime('%d/%m/%Y %H:%M')\n"
      ]
    },
    {
      "cell_type": "markdown",
      "source": [
        "## Coleta dos dados: Batalhões Polícia Militar\n"
      ],
      "metadata": {
        "id": "KY-A6XVm6CCH"
      }
    },
    {
      "cell_type": "markdown",
      "source": [
        "### Cadastro dos registros dos batalhões\n"
      ],
      "metadata": {
        "id": "Q0VO2-W56aqb"
      }
    },
    {
      "cell_type": "code",
      "source": [
        "#Criar Data Frame com os dados dos BPM\n",
        "tb_log_bpm = pd.DataFrame(pd.read_csv(local_arquivos / \"BPM.csv\"))\n",
        "tb_log_bpm['dtCarga'] = datetime.today().strftime('%d/%m/%Y %H:%M')\n",
        "\n",
        "#Ajustar a nomenclatura das colunas do Data Frame:\n",
        "tb_log_bpm = tb_log_bpm.rename(columns = {'COD_BPM': 'idBPM', 'NM_BPM':'nomeBPM','Endereco':'enderBPM'})\n"
      ],
      "metadata": {
        "id": "BGODL3tz6l-S"
      },
      "execution_count": null,
      "outputs": []
    },
    {
      "cell_type": "markdown",
      "source": [
        "### Cadastro das áreas dos BPM"
      ],
      "metadata": {
        "id": "tcoVvwTzqxob"
      }
    },
    {
      "cell_type": "code",
      "source": [
        "#Criar Data Frame com os dados das áreas dos BPM\n",
        "tb_log_area_bpm = pd.DataFrame(pd.read_csv(local_arquivos / \"areaBPMv1.csv\"))\n",
        "tb_log_area_bpm['dtCarga'] = datetime.today().strftime('%d/%m/%Y %H:%M')\n",
        "\n",
        "#Ajustar a nomenclatura das colunas do Data Frame:\n",
        "tb_log_area_bpm = tb_log_area_bpm.rename(columns = {'aisp': 'idBPM', 'area_aisp_km2':'areaBPM'})"
      ],
      "metadata": {
        "id": "ahaLq2sarIj0"
      },
      "execution_count": null,
      "outputs": []
    },
    {
      "cell_type": "markdown",
      "source": [
        "## Coleta dos dados: Ocorrências"
      ],
      "metadata": {
        "id": "JeLXsZuil6Q8"
      }
    },
    {
      "cell_type": "markdown",
      "source": [
        "### Cadastro dos registros das ocorrências"
      ],
      "metadata": {
        "id": "cNC449P-mF-j"
      }
    },
    {
      "cell_type": "code",
      "source": [
        "#Criar Data Frame com os dados das áreas dos BPM\n",
        "tb_log_ocorrencias = pd.DataFrame(pd.read_csv(local_arquivos / \"OcorrenciaV2.csv\"))\n",
        "tb_log_ocorrencias['dtCarga'] = datetime.today().strftime('%d/%m/%Y %H:%M')\n",
        "\n",
        "#Ajustar a nomenclatura das colunas do Data Frame:\n",
        "tb_log_ocorrencias = tb_log_ocorrencias.rename(columns = {'COD_DP': 'idDP', 'COD_BPM':'idBPM', 'Regiao':'regiao', 'COD_Munic_IBGE':'codMunic','Ocorrencia':'ocorrencia','Soma de Qtde':'somaQtd'})\n",
        "\n",
        "tb_log_ocorrencias"
      ],
      "metadata": {
        "id": "MemaIiG6mP1d"
      },
      "execution_count": null,
      "outputs": []
    },
    {
      "cell_type": "markdown",
      "metadata": {
        "id": "J17vzUGpNJth"
      },
      "source": [
        "# Configuração Banco de Dados: ODS e DW - SQLite"
      ]
    },
    {
      "cell_type": "code",
      "execution_count": null,
      "metadata": {
        "id": "DrOpkDJTNJti"
      },
      "outputs": [],
      "source": [
        "##Manipular sistema de arquivos:\n",
        "endereco = PosixPath('/content/BasesDeDados')\n",
        "\n",
        "#Local onde serão salvas as bases de dados\n",
        "bd_ods = endereco / \"baseODS.db\"\n",
        "bd_dw = endereco / \"baseDW.db\"\n",
        "\n",
        "#Validar a existência das bases\n",
        "if endereco.exists():\n",
        "    if (bd_ods.exists() and bd_dw.exists()):\n",
        "        print('Bancos de dados já existem!')\n",
        "    else:\n",
        "        bd_ods.touch()\n",
        "        bd_dw.touch()\n",
        "        print('Bancos de dados criados!')\n",
        "else:\n",
        "    print('Endereço não existe, favor verificar!')\n",
        "    \n"
      ]
    },
    {
      "cell_type": "markdown",
      "source": [
        "### Criação das tabelas - ODS"
      ],
      "metadata": {
        "id": "ZfeHwIeGDgOT"
      }
    },
    {
      "cell_type": "code",
      "source": [
        "#Conectar no ODS\n",
        "conexao_ods = sql.connect(bd_ods)\n",
        "\n",
        "#Definir variável para manipulação\n",
        "cursor_ods = conexao_ods.cursor()\n",
        "\n",
        "#Criar tabelase e índices, caso não existam:\n",
        "####---------------tbLogMunic---------------####\n",
        "cursor_ods.execute(\n",
        "\n",
        "    '''\n",
        "        CREATE TABLE IF NOT EXISTS \"tbLogMunic\" (\n",
        "          \"idMunic\" INTEGER,\n",
        "          \"nomeMunic\" TEXT,\n",
        "          \"codMunic\" INTEGER,\n",
        "          \"dtCarga\" TEXT\n",
        "        )\n",
        "     '''\n",
        ")\n",
        "cursor_ods.execute('CREATE INDEX IF NOT EXISTS idx_tbLogMunic_idMunic ON tbLogMunic(idMunic)')\n",
        "####----------------------------------------####\n",
        "####---------------tbLogDP------------------####\n",
        "cursor_ods.execute(\n",
        "\n",
        "    '''\n",
        "        CREATE TABLE IF NOT EXISTS \"tbLogDP\" (\n",
        "          \"idDP\" INTEGER,\n",
        "          \"nomeDP\" VARCHAR(200),\n",
        "          \"enderDP\" VARCHAR(200),\n",
        "          \"dtCarga\" DATETIME\n",
        "        )\n",
        "        \n",
        "    '''\n",
        ")\n",
        "cursor_ods.execute('CREATE INDEX IF NOT EXISTS idx_tbLogDP_idDP ON tbLogDP(idDP)')\n",
        "####----------------------------------------####\n",
        "####---------------tbLogRespDP--------------####\n",
        "cursor_ods.execute(\n",
        "\n",
        "    '''\n",
        "        CREATE TABLE IF NOT EXISTS \"tbLogRespDP\" (\n",
        "          \"idDP\" INTEGER,\n",
        "          \"nomeResp\" VARCHAR(200),\n",
        "          \"dtCarga\" DATETIME\n",
        "        )\n",
        "     '''\n",
        ")\n",
        "cursor_ods.execute('CREATE INDEX IF NOT EXISTS idx_tbLogRespDP_idDP ON tbLogRespDP(idDP)')\n",
        "####----------------------------------------####\n",
        "####---------------tbLogBPM-----------------####\n",
        "cursor_ods.execute(\n",
        "\n",
        "    '''\n",
        "        CREATE TABLE IF NOT EXISTS \"tbLogBPM\" (\n",
        "          \"idBPM\" INTEGER,\n",
        "          \"nomeBPM\" VARCHAR(50),\n",
        "          \"enderBPM\" VARCHAR(200),\n",
        "          \"dtCarga\" DATETIME\n",
        "        )\n",
        "        \n",
        "    '''\n",
        ")\n",
        "cursor_ods.execute('CREATE INDEX IF NOT EXISTS idx_tbLogBPM_idBPM ON tbLogBPM(idBPM)')\n",
        "####----------------------------------------####\n",
        "####--------------tbLogAreaBPM----------------####\n",
        "cursor_ods.execute(\n",
        "\n",
        "    '''\n",
        "        CREATE TABLE IF NOT EXISTS \"tbLogAreaBPM\" (\n",
        "          \"idBPM\" INTEGER,\n",
        "          \"areaBPM\" REAL(5,2),\n",
        "          \"dtCarga\" DATETIME\n",
        "        )\n",
        "        \n",
        "    '''\n",
        ")\n",
        "cursor_ods.execute('CREATE INDEX IF NOT EXISTS idx_tbLogAreaBPM_idBPM ON tbLogAreaBPM(idBPM)')\n",
        "####----------------------------------------------####\n",
        "####--------------tbLogOcorrencias----------------####\n",
        "cursor_ods.execute(\n",
        "\n",
        "    '''\n",
        "        CREATE TABLE IF NOT EXISTS \"tbLogOcorrencias\" (\n",
        "          \"idDP\" INTEGER,\n",
        "          \"idBPM\" INTEGER,\n",
        "          \"ano\" INTEGER,\n",
        "          \"mes\" INTEGER,\n",
        "          \"mes_ano\" VARCHAR(10),\n",
        "          \"regiao\" INTEGER,\n",
        "          \"codMunic\" INTEGER,\n",
        "          \"ocorrencia\" VARCHAR(30),\n",
        "          \"somaQtd\" INTEGER,\n",
        "          \"dtCarga\" DATETIME\n",
        "        )\n",
        "        \n",
        "    '''\n",
        ")\n",
        "cursor_ods.execute('CREATE INDEX IF NOT EXISTS idx_tbLogOcorrencias ON tbLogOcorrencias(idDP,idBPM,codMunic)')\n",
        "####----------------------------------------####\n",
        "\n",
        "#Confirmar insert e encerrando a conexão\n",
        "conexao_ods.commit()\n",
        "conexao_ods.close()"
      ],
      "metadata": {
        "id": "7q7OKgWEDqmM"
      },
      "execution_count": null,
      "outputs": []
    },
    {
      "cell_type": "markdown",
      "source": [
        "### Criação das tabelas - DW"
      ],
      "metadata": {
        "id": "1qetFpj6G7_q"
      }
    },
    {
      "cell_type": "code",
      "source": [
        "#Conectar no DW\n",
        "conexao_dw = sql.connect(bd_dw)\n",
        "\n",
        "#Definir variável para manipulação\n",
        "cursor_dw = conexao_dw.cursor()\n",
        "\n",
        "#Criar tabelase índices, caso não existam:\n",
        "####---------------dMunicipio---------------####\n",
        "cursor_dw.execute(\n",
        "\n",
        "    '''\n",
        "        CREATE TABLE IF NOT EXISTS \"dMunicipio\" (\n",
        "          \"sk_idMunic\" INTEGER PRIMARY KEY AUTOINCREMENT,\n",
        "          \"codMunic\" INTEGER,\n",
        "          \"nomeMunic\" TEXT\n",
        "        )\n",
        "\n",
        "     '''\n",
        ")\n",
        "cursor_dw.execute('CREATE INDEX IF NOT EXISTS idx_dMunicipio_sk_idMunic ON dMunicipio(sk_idMunic)')\n",
        "####---------------------------------------####\n",
        "####------------------dDP------------------####\n",
        "cursor_dw.execute(\n",
        "\n",
        "    '''\n",
        "        CREATE TABLE IF NOT EXISTS \"dDP\" (\n",
        "          \"sk_idDP\" INTEGER PRIMARY KEY AUTOINCREMENT,\n",
        "          \"codDP\" INTEGER,\n",
        "          \"nomeDP\" VARCHAR(200),\n",
        "          \"enderDP\" VARCHAR(200),\n",
        "          \"nomeResp\" VARCHAR(200)\n",
        "        )\n",
        "\n",
        "     '''\n",
        ")\n",
        "cursor_dw.execute('CREATE INDEX IF NOT EXISTS idx_dDP_sk_idDP ON dDP(sk_idDP)')\n",
        "####----------------------------------------####\n",
        "####------------------dBPM------------------####\n",
        "cursor_dw.execute(\n",
        "\n",
        "    '''\n",
        "        CREATE TABLE IF NOT EXISTS \"dBPM\" (\n",
        "          \"sk_idBPM\" INTEGER PRIMARY KEY AUTOINCREMENT ,\n",
        "          \"codBPM\" INTEGER,\n",
        "          \"nomeBPM\" VARCHAR(50),\n",
        "          \"enderBPM\" VARCHAR(200),\n",
        "          \"areaBPM\" REAL(5,2)\n",
        "        )\n",
        "\n",
        "     '''\n",
        ")\n",
        "cursor_dw.execute('CREATE INDEX IF NOT EXISTS idx_dBPM_sk_idBPM ON dBPM(sk_idBPM)')\n",
        "####--------------------------------------------####\n",
        "####------------------dPeriodo------------------####\n",
        "cursor_dw.execute(\n",
        "\n",
        "    '''\n",
        "         CREATE TABLE IF NOT EXISTS \"dPeriodo\" (\n",
        "          \"sk_idPeriodo\" INTEGER PRIMARY KEY AUTOINCREMENT ,\n",
        "          \"data\" DATETIME,\n",
        "          \"mes\" INTEGER,\n",
        "          \"ano\" INTEGER,\n",
        "          \"trimestre\" VARCHAR(2),\n",
        "          \"semestre\" VARCHAR(2)\n",
        "        )\n",
        "\n",
        "     '''\n",
        ")\n",
        "cursor_dw.execute('CREATE INDEX IF NOT EXISTS idx_dPeriodo_sk_idPeriodo ON dPeriodo(sk_idPeriodo)')\n",
        "cursor_dw.execute('CREATE INDEX IF NOT EXISTS idx_dPeriodo ON dPeriodo(mes,ano)')\n",
        "####------------------------------------------------####\n",
        "####------------------FOcorrencias------------------####\n",
        "cursor_dw.execute(\n",
        "\n",
        "    '''\n",
        "        CREATE TABLE IF NOT EXISTS \"fOcorrencias\" (\n",
        "          \"idDP\" INTEGER REFERENCES dDP(sk_idDP) ON UPDATE NO ACTION ON DELETE NO ACTION,\n",
        "          \"idBPM\" INTEGER REFERENCES dBPM(sk_idBPM) ON UPDATE NO ACTION ON DELETE NO ACTION,\n",
        "          \"idPeriodo\" INTEGER REFERENCES dPeriodo(sk_idPeriodo) ON UPDATE NO ACTION ON DELETE NO ACTION,\n",
        "          \"regiao\" INTEGER,\n",
        "          \"idMunic\" INTEGER REFERENCES dMunicipio(sk_idMunic) ON UPDATE NO ACTION ON DELETE NO ACTION,\n",
        "          \"ocorrencia\" VARCHAR(30),\n",
        "          \"somaQtd\" INTEGER\n",
        "        )\n",
        "        \n",
        "    '''\n",
        ")\n",
        "\n",
        "cursor_dw.execute('CREATE INDEX IF NOT EXISTS idx_fOcorrencias ON fOcorrencias(idDP,idBPM,idPeriodo,idMunic)')\n",
        "####-----------------------------------------------####\n",
        "\n",
        "#Confirmar create e encerrar a conexão\n",
        "conexao_dw.commit()\n",
        "conexao_dw.close()"
      ],
      "metadata": {
        "id": "ae-j4RTaHGn5"
      },
      "execution_count": null,
      "outputs": []
    },
    {
      "cell_type": "markdown",
      "metadata": {
        "id": "3zhKTCuWNJtj"
      },
      "source": [
        "# Manipulação dos Dados - ODS"
      ]
    },
    {
      "cell_type": "markdown",
      "source": [
        "## Inserções"
      ],
      "metadata": {
        "id": "Nr1ObTAIxcBu"
      }
    },
    {
      "cell_type": "markdown",
      "metadata": {
        "id": "TyBMxNCbNJtj"
      },
      "source": [
        "### Inserir os registros ODS: Cadastro Municípios"
      ]
    },
    {
      "cell_type": "code",
      "execution_count": null,
      "metadata": {
        "id": "9M9kDZjENJtj"
      },
      "outputs": [],
      "source": [
        "#Conectar no ODS\n",
        "conexao_ods = sql.connect(bd_ods)\n",
        "\n",
        "#Definir variável para manipulação\n",
        "cursor_ods = conexao_ods.cursor()\n",
        "\n",
        "#Adicionar novos registros à tabela tbLogMunic\n",
        "ibge_dados_rj.to_sql('tbLogMunic', conexao_ods, if_exists='append')\n",
        "\n",
        "#Confirmar insert e encerrando a conexão\n",
        "conexao_ods.commit()\n",
        "conexao_ods.close()\n",
        "\n",
        "print(\"Carga ODS Cadastro de Municípios finalizada!\",len(ibge_dados_rj),\"Registros inseridos!\")"
      ]
    },
    {
      "cell_type": "markdown",
      "metadata": {
        "id": "vjE7mLX8NJtk"
      },
      "source": [
        "### Inserir os registros ODS: Cadastro DPs"
      ]
    },
    {
      "cell_type": "code",
      "execution_count": null,
      "metadata": {
        "id": "h-5vYTiyNJtk"
      },
      "outputs": [],
      "source": [
        "#Conectar no ODS\n",
        "conexao_ods = sql.connect(bd_ods)\n",
        "\n",
        "#Definir variável para manipulação\n",
        "cursor_ods = conexao_ods.cursor()\n",
        "\n",
        "#Inserir dados\n",
        "cursor_ods.executemany('''INSERT INTO tbLogDP(idDP,nomeDP,enderDP,dtCarga) VALUES(?,?,?,?)''',tb_log_dp.values.tolist())\n",
        "\n",
        "#Confirmar insert e encerrando a conexão\n",
        "conexao_ods.commit()\n",
        "conexao_ods.close()\n",
        "\n",
        "#Mensagem de conslusão\n",
        "print(\"Carga ODS Cadastro de DPs finalizada!\",len(tb_log_dp),\"Registros inseridos!\")\n"
      ]
    },
    {
      "cell_type": "markdown",
      "metadata": {
        "id": "PJIA16FuNJtl"
      },
      "source": [
        "### Inserir os registros ODS: Cadastro Responsáveis DPs"
      ]
    },
    {
      "cell_type": "code",
      "execution_count": null,
      "metadata": {
        "id": "BON5vsYDNJtm"
      },
      "outputs": [],
      "source": [
        "#Conectar no ODS\n",
        "conexao_ods = sql.connect(bd_ods)\n",
        "\n",
        "#Definir variável para manipulação\n",
        "cursor_ods = conexao_ods.cursor()\n",
        "\n",
        "#Inserir dados\n",
        "cursor_ods.executemany('''INSERT INTO tbLogRespDP(idDP,nomeResp,dtCarga) VALUES(?,?,?)''',tb_log_resp_dp.values.tolist())\n",
        "\n",
        "#Confirmar insert e encerrando a conexão\n",
        "conexao_ods.commit()\n",
        "conexao_ods.close()\n",
        "\n",
        "#Mensagem de conslusão\n",
        "print(\"Carga ODS Responsáveis de DPs finalizada!\",len(tb_log_resp_dp),\"Registros inseridos!\")"
      ]
    },
    {
      "cell_type": "markdown",
      "source": [
        "### Inserir os registros ODS: Cadastro BPM"
      ],
      "metadata": {
        "id": "VLGsXhFQ8DOz"
      }
    },
    {
      "cell_type": "code",
      "source": [
        "#Conectar no ODS\n",
        "conexao_ods = sql.connect(bd_ods)\n",
        "\n",
        "#Definir variável para manipulação\n",
        "cursor_ods = conexao_ods.cursor()\n",
        "\n",
        "#Inserir dados\n",
        "cursor_ods.executemany('''INSERT INTO tbLogBPM(idBPM,nomeBPM,enderBPM,dtCarga) VALUES(?,?,?,?)''',tb_log_bpm.values.tolist())\n",
        "\n",
        "#Confirmar insert e encerrando a conexão\n",
        "conexao_ods.commit()\n",
        "conexao_ods.close()\n",
        "\n",
        "#Mensagem de conslusão\n",
        "print(\"Carga ODS Cadastro dos BPM finalizados!\",len(tb_log_bpm),\"Registros inseridos!\")"
      ],
      "metadata": {
        "id": "aOh2jOc_8DkU"
      },
      "execution_count": null,
      "outputs": []
    },
    {
      "cell_type": "markdown",
      "source": [
        "### Inserir os registros ODS: Cadastro áreas BPM"
      ],
      "metadata": {
        "id": "3nlgh44-xqLO"
      }
    },
    {
      "cell_type": "code",
      "source": [
        "#Conectar no ODS\n",
        "conexao_ods = sql.connect(bd_ods)\n",
        "\n",
        "#Definir variável para manipulação\n",
        "cursor_ods = conexao_ods.cursor()\n",
        "\n",
        "#Inserir dados\n",
        "cursor_ods.executemany('''INSERT INTO tbLogAreaBPM(idBPM,areaBPM,dtCarga) VALUES(?,?,?)''',tb_log_area_bpm.values.tolist())\n",
        "\n",
        "#Confirmar insert e encerrando a conexão\n",
        "conexao_ods.commit()\n",
        "conexao_ods.close()\n",
        "\n",
        "#Mensagem de conslusão\n",
        "print(\"Carga ODS Cadastro das áreas BPM finalizada!\",len(tb_log_area_bpm),\"Registros inseridos!\")"
      ],
      "metadata": {
        "id": "trcZarsox0Dm"
      },
      "execution_count": null,
      "outputs": []
    },
    {
      "cell_type": "markdown",
      "source": [
        "### Inserir os registros ODS: Cadastro das Ocorrências"
      ],
      "metadata": {
        "id": "FGs5DSPirwnA"
      }
    },
    {
      "cell_type": "code",
      "source": [
        "#Conectar no ODS\n",
        "conexao_ods = sql.connect(bd_ods)\n",
        "\n",
        "#Definir variável para manipulação\n",
        "cursor_ods = conexao_ods.cursor()\n",
        "\n",
        "#Inserir dados\n",
        "cursor_ods.executemany('''\n",
        "                          INSERT INTO tbLogOcorrencias (idDP,idBPM,ano,mes,mes_ano,regiao,codMunic,ocorrencia,somaQtd,dtCarga) \n",
        "                          VALUES(?,?,?,?,?,?,?,?,?,?)\n",
        "                          \n",
        "                        ''',tb_log_ocorrencias.values.tolist()\n",
        "                      )\n",
        "\n",
        "\n",
        "#Confirmar insert e encerrando a conexão\n",
        "conexao_ods.commit()\n",
        "conexao_ods.close()\n",
        "\n",
        "#Mensagem de conslusão\n",
        "print(\"Carga ODS Cadastro das áreas BPM finalizada!\",len(tb_log_ocorrencias),\"Registros inseridos!\")"
      ],
      "metadata": {
        "id": "yy2Hp610r0t4"
      },
      "execution_count": null,
      "outputs": []
    },
    {
      "cell_type": "markdown",
      "source": [
        "## Validações"
      ],
      "metadata": {
        "id": "RqYbesqHxjh8"
      }
    },
    {
      "cell_type": "markdown",
      "metadata": {
        "id": "ubfPtNhhNJtk"
      },
      "source": [
        "### Validar os registros inseridos ODS - Cadastro DPs"
      ]
    },
    {
      "cell_type": "code",
      "execution_count": null,
      "metadata": {
        "id": "M2UimUULNJtl"
      },
      "outputs": [],
      "source": [
        "#Conectar no ODS\n",
        "conexao_ods = sql.connect(bd_ods)\n",
        "\n",
        "#Select de validação:\n",
        "select_ods = 'SELECT * FROM tbLogDP ORDER BY dtCarga DESC LIMIT '+ str(len(tb_log_dp))\n",
        "select_ods = pd.read_sql(select_ods,conexao_ods)\n",
        "\n",
        "#Encerrar a conexão\n",
        "conexao_ods.close()\n",
        "\n",
        "#Exibir select de validação\n",
        "select_ods"
      ]
    },
    {
      "cell_type": "markdown",
      "metadata": {
        "id": "ZdCvfTp8NJtn"
      },
      "source": [
        "### Validar os registros inseridos ODS - Cadastro Responsáveis DPs"
      ]
    },
    {
      "cell_type": "code",
      "execution_count": null,
      "metadata": {
        "scrolled": false,
        "id": "pT5xDXnjNJto"
      },
      "outputs": [],
      "source": [
        "#Conectar no ODS\n",
        "conexao_ods = sql.connect(bd_ods)\n",
        "\n",
        "#Select de validação:\n",
        "select_ods = 'SELECT * FROM tbLogRespDP  ORDER BY dtCarga DESC LIMIT ' + str(len(tb_log_resp_dp))\n",
        "select_ods = pd.read_sql(select_ods,conexao_ods)\n",
        "\n",
        "#Encerrar a conexão\n",
        "conexao_ods.close()\n",
        "\n",
        "#Exibir select de validação\n",
        "select_ods"
      ]
    },
    {
      "cell_type": "markdown",
      "source": [
        "### Validar os registros inseridos ODS - Cadastro BPM"
      ],
      "metadata": {
        "id": "XUUM-mg9CCcU"
      }
    },
    {
      "cell_type": "code",
      "source": [
        "#Conectar no ODS\n",
        "conexao_ods = sql.connect(bd_ods)\n",
        "\n",
        "#Select de validação:\n",
        "select_ods = 'SELECT * FROM tbLogBPM  ORDER BY dtCarga DESC LIMIT ' + str(len(tb_log_bpm))\n",
        "select_ods = pd.read_sql(select_ods,conexao_ods)\n",
        "\n",
        "#Encerrar a conexão\n",
        "conexao_ods.close()\n",
        "\n",
        "#Exibir select de validação\n",
        "select_ods"
      ],
      "metadata": {
        "id": "VOePpsm4C9KM"
      },
      "execution_count": null,
      "outputs": []
    },
    {
      "cell_type": "markdown",
      "source": [
        "### Validar os registros inseridos ODS - Cadastro áreas BPM\n",
        "\n"
      ],
      "metadata": {
        "id": "rg6kTQWDywXu"
      }
    },
    {
      "cell_type": "code",
      "source": [
        "#Conectar no ODS\n",
        "conexao_ods = sql.connect(bd_ods)\n",
        "\n",
        "#Select de validação:\n",
        "select_ods = 'SELECT * FROM tbLogBPM  ORDER BY dtCarga DESC LIMIT ' + str(len(tb_log_area_bpm))\n",
        "select_ods = pd.read_sql(select_ods,conexao_ods)\n",
        "\n",
        "#Encerrar a conexão\n",
        "conexao_ods.close()\n",
        "\n",
        "#Exibir select de validação\n",
        "select_ods"
      ],
      "metadata": {
        "id": "E-P7uSW1y1yW"
      },
      "execution_count": null,
      "outputs": []
    },
    {
      "cell_type": "markdown",
      "source": [
        "### Validar os registros inseridos ODS - Cadastro de Ocorrências\n"
      ],
      "metadata": {
        "id": "m4A4zAU1uSE_"
      }
    },
    {
      "cell_type": "code",
      "source": [
        "#Conectar no ODS\n",
        "conexao_ods = sql.connect(bd_ods)\n",
        "\n",
        "#Select de validação:\n",
        "select_ods = 'SELECT * FROM tbLogOcorrencias ORDER BY dtCarga DESC LIMIT ' + str(len(tb_log_ocorrencias))\n",
        "select_ods = pd.read_sql(select_ods,conexao_ods)\n",
        "\n",
        "#Encerrar a conexão\n",
        "conexao_ods.close()\n",
        "\n",
        "#Exibir select de validação\n",
        "select_ods"
      ],
      "metadata": {
        "id": "GoXsCYa2uVW9"
      },
      "execution_count": null,
      "outputs": []
    },
    {
      "cell_type": "markdown",
      "metadata": {
        "id": "98W1_VbfNJto"
      },
      "source": [
        "# Manipulação dos Dados - DW"
      ]
    },
    {
      "cell_type": "markdown",
      "metadata": {
        "id": "ziCazAH6NJto"
      },
      "source": [
        "### Inserir os registros: Cadastro de Municípios"
      ]
    },
    {
      "cell_type": "code",
      "execution_count": null,
      "metadata": {
        "id": "HesBJBxINJtp"
      },
      "outputs": [],
      "source": [
        "#Conectar no DW\n",
        "conexao_dw = sql.connect(bd_dw)\n",
        "\n",
        "#Definir variável para manipulação\n",
        "cursor_dw = conexao_dw.cursor()\n",
        "\n",
        "#Criar Data Frame para popular o DW\n",
        "ibge_dados_rj_dw = ibge_dados_rj[['codMunic','nomeMunic']]\n",
        "\n",
        "#Criar e/ou popular a dimensão dMunicipio com o DF ibge_dados_rj_dw\n",
        "ibge_dados_rj_dw.to_sql('dMunicipio', conexao_dw, if_exists='replace')\n",
        "\n",
        "#Confirmar insert e encerrando a conexão\n",
        "conexao_dw.commit()\n",
        "conexao_dw.close()\n",
        "\n",
        "#Mensagem de conslusão\n",
        "print(\"Carga DW Municípios finalizada!\",len(ibge_dados_rj_dw),\"Registros inseridos!\")"
      ]
    },
    {
      "cell_type": "markdown",
      "metadata": {
        "id": "IWv2fngHNJtp"
      },
      "source": [
        "### Inserir os registros: DPs e responsáveis"
      ]
    },
    {
      "cell_type": "code",
      "execution_count": null,
      "metadata": {
        "id": "iK4r4lgHNJtp"
      },
      "outputs": [],
      "source": [
        "#Conectar no DW\n",
        "conexao_dw = sql.connect(bd_dw)\n",
        "\n",
        "#Definir variável para manipulação\n",
        "cursor_dw = conexao_dw.cursor()\n",
        "\n",
        "#Query para dimensão dDP:\n",
        "\n",
        "dDP ='''\n",
        "SELECT \n",
        "    [Identificador do Departamento],\n",
        "    [Nome do Departamento],\n",
        "    [Endereço do Departamento],\n",
        "    [Nome do Responsável]\n",
        "FROM\n",
        "    (\n",
        "        SELECT \n",
        "            DP.idDP [Identificador do Departamento],\n",
        "            DP.nomeDP [Nome do Departamento],\n",
        "            DP.enderDP [Endereço do Departamento],\n",
        "            RESP.nomeResp [Nome do Responsável],\n",
        "            MAX(DP.dtCarga) [Horário da última carga dos dados]\n",
        "        FROM tbLogDP DP\n",
        "            INNER JOIN tbLogRespDP RESP on RESP.idDP = DP.idDP\n",
        "        WHERE DP.dtCarga = (SELECT MAX(T.dtCarga) FROM tbLogDP T)\n",
        "        GROUP BY\n",
        "            DP.idDP,\n",
        "            DP.nomeDP,\n",
        "            DP.enderDP,\n",
        "            RESP.nomeResp\n",
        "    ) dDP\n",
        "'''\n",
        "#Conectar no ODS\n",
        "conexao_ods = sql.connect(bd_ods)\n",
        "\n",
        "#Preencher o Data Frame da dimensão dDP\n",
        "dDP = pd.read_sql(dDP,conexao_ods)\n",
        "\n",
        "#Confirmar a leitura e encerrando a conexão ODS\n",
        "conexao_ods.commit()\n",
        "conexao_ods.close()\n",
        "\n",
        "#Limpar a dimensão para inserir os novos registros:\n",
        "cursor_dw.execute(''' DELETE FROM dDP''')\n",
        "cursor_dw.execute('UPDATE sqlite_sequence SET seq=0 WHERE name=\"dDP\"')\n",
        "\n",
        "#Inserir os registros\n",
        "cursor_dw.executemany('''INSERT INTO dDP(codDP,nomeDP,enderDP,nomeResp) VALUES(?,?,?,?)''',dDP.values.tolist())\n",
        "\n",
        "#Confirmar o delete, insert e encerrando a conexão DW\n",
        "conexao_dw.commit()\n",
        "conexao_dw.close()\n",
        "\n",
        "#Mensagem de conslusão\n",
        "print(\"Carga DW Responsáveis e DPs finalizada!\",len(dDP),\"Registros inseridos!\")"
      ]
    },
    {
      "cell_type": "markdown",
      "source": [
        "### Inserir os registros: BPM e áreas"
      ],
      "metadata": {
        "id": "zNawOlAw1leF"
      }
    },
    {
      "cell_type": "code",
      "source": [
        "#Conectar no DW\n",
        "conexao_dw = sql.connect(bd_dw)\n",
        "\n",
        "#Definir variável para manipulação\n",
        "cursor_dw = conexao_dw.cursor()\n",
        "\n",
        "#Query para dimensão dDP:\n",
        "\n",
        "dBPM ='''\n",
        "SELECT \n",
        "    [Identificador do BPM],\n",
        "    [Nome do BPM],\n",
        "    [Endereço do BPM],\n",
        "    [Área do BPM]\n",
        "FROM\n",
        "    (\n",
        "        SELECT \n",
        "            BPM.idBPM [Identificador do BPM],\n",
        "            BPM.nomeBPM [Nome do BPM],\n",
        "            BPM.enderBPM [Endereço do BPM],\n",
        "            AREA.areaBPM [Área do BPM],\n",
        "            MAX(BPM.dtCarga) [Horário da última carga dos dados]\n",
        "        FROM tbLogBPM BPM\n",
        "            INNER JOIN tbLogAreaBPM AREA on AREA.idBPM = BPM.idBPM\n",
        "        WHERE BPM.dtCarga = (SELECT MAX(T.dtCarga) FROM tbLogBPM T)\n",
        "        GROUP BY\n",
        "            BPM.idBPM,\n",
        "            BPM.nomeBPM,\n",
        "            BPM.enderBPM,\n",
        "            AREA.areaBPM\n",
        "    ) dBPM\n",
        "'''\n",
        "\n",
        "#Conectar no ODS\n",
        "conexao_ods = sql.connect(bd_ods)\n",
        "\n",
        "#Preencher o Data Frame da dimensão dDP\n",
        "dBPM = pd.read_sql(dBPM,conexao_ods)\n",
        "\n",
        "#Confirmar a leitura e encerrando a conexão ODS\n",
        "conexao_ods.commit()\n",
        "conexao_ods.close()\n",
        "\n",
        "#Limpar a dimensão para inserir os novos registros:\n",
        "cursor_dw.execute(''' DELETE FROM dBPM''')\n",
        "cursor_dw.execute('UPDATE sqlite_sequence SET seq=0 WHERE name=\"dBPM\"')\n",
        "\n",
        "#Inserir os registros\n",
        "cursor_dw.executemany('''INSERT INTO dBPM(codBPM,nomeBPM,enderBPM,areaBPM) VALUES(?,?,?,?)''',dBPM.values.tolist())\n",
        "\n",
        "#Confirmar o delete, insert e encerrando a conexão DW\n",
        "conexao_dw.commit()\n",
        "conexao_dw.close()\n",
        "\n",
        "#Mensagem de conslusão\n",
        "print(\"Carga DW Batalhões e Áreas finalizada!\",len(dBPM),\"Registros inseridos!\")"
      ],
      "metadata": {
        "id": "1Y3vFe6-4KiT"
      },
      "execution_count": null,
      "outputs": []
    },
    {
      "cell_type": "markdown",
      "source": [
        "### Inserir os registros: Ocorrências"
      ],
      "metadata": {
        "id": "vj_W80p9vTge"
      }
    },
    {
      "cell_type": "code",
      "source": [
        "#Conectar no DW\n",
        "conexao_dw = sql.connect(bd_dw)\n",
        "\n",
        "#Definir variável para manipulação\n",
        "cursor_dw = conexao_dw.cursor()\n",
        "\n",
        "#Query para tabela temporário Fato ocorrências:\n",
        "fOcorrencias ='''\n",
        "SELECT \n",
        "    [Identificador do Departamento],\n",
        "    [Identificador do BPM],\n",
        "    [Ano da ocorrência],\n",
        "    [Mês da ocorrência],\n",
        "    [Mês e ano da ocorrência],\n",
        "    [Região da ocorrência],\n",
        "    [Cod do Município da ocorrência],\n",
        "    [Ocorrência],\n",
        "    [Somatório da quantidade de Ocorrências]\n",
        "FROM\n",
        "    (\n",
        "        SELECT \n",
        "            Ocorr.idDP [Identificador do Departamento],\n",
        "            Ocorr.idBPM [Identificador do BPM],\n",
        "            Ocorr.ano [Ano da ocorrência],\n",
        "            Ocorr.mes [Mês da ocorrência],\n",
        "            Ocorr.mes_ano [Mês e ano da ocorrência],\n",
        "            Ocorr.regiao [Região da ocorrência],\n",
        "            Ocorr.codMunic [Cod do Município da ocorrência],\n",
        "            Ocorr.ocorrencia [Ocorrência],\n",
        "            Ocorr.somaQtd [Somatório da quantidade de Ocorrências],\n",
        "            MAX(Ocorr.dtCarga) [Horário da última carga dos dados]\n",
        "        FROM tbLogOcorrencias Ocorr\n",
        "        WHERE Ocorr.dtCarga = (SELECT MAX(T.dtCarga) FROM tbLogOcorrencias T)\n",
        "        GROUP BY\n",
        "            Ocorr.idDP,\n",
        "            Ocorr.idBPM,\n",
        "            Ocorr.ano,\n",
        "            Ocorr.mes,\n",
        "            Ocorr.mes_ano,\n",
        "            Ocorr.regiao,\n",
        "            Ocorr.codMunic,\n",
        "            Ocorr.ocorrencia,\n",
        "            Ocorr.somaQtd\n",
        "    ) fOcorrencias\n",
        "\n",
        "'''\n",
        "#Conectar no ODS\n",
        "conexao_ods = sql.connect(bd_ods)\n",
        "\n",
        "#Preencher o Data Frame da tabela temporária fato Ocorrências\n",
        "fOcorrencias = pd.read_sql(fOcorrencias,conexao_ods)\n",
        "\n",
        "#Confirmar a leitura e encerrando a conexão ODS\n",
        "conexao_ods.commit()\n",
        "conexao_ods.close()\n",
        "\n",
        "#Criar tabela temporária de ocorrências:\n",
        "fOcorrencias.to_sql('tempOcorrencias',conexao_dw,if_exists=\"replace\")\n",
        "\n",
        "#Consulta para carga incremental tabela persistente de ocorrencias\n",
        "cargafOcorrencias= '''              \n",
        "        SELECT \n",
        "          DP.sk_idDP,\n",
        "          BPM.sk_idBPM,\n",
        "          PER.sk_idPeriodo,\n",
        "          OC.[Região da ocorrência],\n",
        "          MUNIC.idMunic,\n",
        "          OC.[Ocorrência],\n",
        "          OC.[Somatório da quantidade de Ocorrências]\n",
        "        FROM tempOcorrencias OC\n",
        "        INNER JOIN dDP DP \n",
        "          ON DP.codDP = OC.[Identificador do Departamento]\n",
        "        INNER JOIN dBPM BPM \n",
        "          ON BPM.codBPM = OC.[Identificador do BPM]\n",
        "        INNER JOIN dPeriodo PER \n",
        "          ON PER.ano = OC.[Ano da ocorrência] AND PER.mes = OC.[Mês da ocorrência]\n",
        "        INNER JOIN dMunicipio MUNIC \n",
        "          ON MUNIC.codMunic = OC.[Cod do Município da ocorrência]\n",
        "        LEFT JOIN fOcorrencias FOC\n",
        "          ON FOC.idDP = DP.sk_idDP \n",
        "          AND FOC.idBPM = BPM.sk_idBPM\n",
        "          AND FOC.idPeriodo = PER.sk_idPeriodo\n",
        "          AND FOC.idMunic = MUNIC.idMunic\n",
        "        WHERE FOC.idDP IS NULL \n",
        "          AND FOC.idBPM IS NULL \n",
        "          AND FOC.idPeriodo IS NULL \n",
        "          AND FOC.idMunic IS NULL \n",
        " \t'''         \n",
        "\n",
        "\n",
        "#Criando Data Frame para a carga da fato ocorrências\n",
        "cargafOcorrencias = pd.read_sql(cargafOcorrencias,conexao_dw) \n",
        "\n",
        "#Inserir os registros\n",
        "cursor_dw.executemany('''INSERT INTO fOcorrencias(idDP,idBPM,idPeriodo,regiao,idMunic,ocorrencia,somaQtd) VALUES(?,?,?,?,?,?,?)''',cargafOcorrencias.values.tolist())\n",
        "\n",
        "#Deletar tabela temporária\n",
        "cursor_dw.execute(''' DROP TABLE tempOcorrencias''')\n",
        "\n",
        "#Confirmar insert e encerrando a conexão DW\n",
        "conexao_dw.commit()\n",
        "conexao_dw.close()\n",
        "\n",
        "#Mensagem de conslusão\n",
        "print(\"Carga DW Fato Ocorrências finalizada!\",len(cargafOcorrencias),\"Registros inseridos!\")"
      ],
      "metadata": {
        "id": "baNWEQDWvV9d"
      },
      "execution_count": null,
      "outputs": []
    },
    {
      "cell_type": "markdown",
      "source": [
        "### Inserir os registros: Períodos"
      ],
      "metadata": {
        "id": "PFDWqBl-a6n0"
      }
    },
    {
      "cell_type": "code",
      "source": [
        "#Conectar no DW\n",
        "conexao_dw = sql.connect(bd_dw)\n",
        "\n",
        "#Definir variável para manipulação\n",
        "cursor_dw = conexao_dw.cursor()\n",
        "\n",
        "#Query CTE para dimensão dPeriodo:\n",
        "dPeriodo ='''\n",
        "WITH _DATA(D) AS\n",
        "(\n",
        "  VALUES('2018-01-01')\n",
        "  UNION ALL\n",
        "  SELECT DATE(D,'+1 month')\n",
        "  FROM _DATA\n",
        "  WHERE D < DATE('NOW')\n",
        ")\n",
        "SELECT \n",
        "  STRFTIME('%d/%m/%Y',D) [data],\n",
        "  CAST(STRFTIME('%m',D) AS INTEGER) [mes],\n",
        "  CAST(STRFTIME('%Y',D) AS INTEGER) [ano],\n",
        "  CASE\t\n",
        "    WHEN CAST(STRFTIME('%m',D) AS INTEGER) IN (1,2,3) THEN 'T1'\n",
        "    WHEN CAST(STRFTIME('%m',D) AS INTEGER) IN (4,5,6) THEN 'T2'\n",
        "    WHEN CAST(STRFTIME('%m',D) AS INTEGER) IN (7,8,9) THEN 'T3'\n",
        "    ELSE 'T4'\n",
        "  END AS [trimestre],\n",
        "  CASE\t\n",
        "    WHEN CAST(STRFTIME('%m',D) AS INTEGER) IN (1,2,3,4,5,6) THEN 'S1'\n",
        "    ELSE 'S2'\n",
        "  END AS [semestre]\n",
        "FROM _DATA\n",
        "\n",
        "'''\n",
        "\n",
        "#Criar Data Frame com os dados da consulta base\n",
        "dPeriodo = pd.read_sql(dPeriodo,conexao_dw)\n",
        "\n",
        "#Limpar a dimensão para inserir os novos registros:\n",
        "cursor_dw.execute(''' DELETE FROM dPeriodo''')\n",
        "cursor_dw.execute('UPDATE sqlite_sequence SET seq=0 WHERE name=\"dPeriodo\"')\n",
        "\n",
        "#Inserir os registros\n",
        "cursor_dw.executemany('''INSERT INTO dPeriodo(data,mes,ano,trimestre,semestre) VALUES(?,?,?,?,?)''',dPeriodo.values.tolist())\n",
        "\n",
        "#Confirmar o delete, insert e encerrando a conexão DW\n",
        "conexao_dw.commit()\n",
        "conexao_dw.close()\n",
        "\n",
        "#Mensagem de conslusão\n",
        "print(\"Carga DW Período finalizadas!\",len(dPeriodo),\"Registros inseridos!\")"
      ],
      "metadata": {
        "id": "zgTUOnRxbIM0"
      },
      "execution_count": null,
      "outputs": []
    },
    {
      "cell_type": "markdown",
      "metadata": {
        "id": "b8PremxgNJtp"
      },
      "source": [
        "### Validar os registros inseridos DW - Dimensão Municípios"
      ]
    },
    {
      "cell_type": "code",
      "execution_count": null,
      "metadata": {
        "scrolled": true,
        "id": "skxXvs0ZNJtp"
      },
      "outputs": [],
      "source": [
        "#Conectar no DW\n",
        "conexao_dw = sql.connect(bd_dw)\n",
        "\n",
        "#Select de validação:\n",
        "select_dw = pd.read_sql('SELECT * FROM dMunicipio',conexao_dw)\n",
        "\n",
        "#Encerrando a conexão\n",
        "conexao_dw.close()\n",
        "\n",
        "#Exibindo select de validação\n",
        "select_dw"
      ]
    },
    {
      "cell_type": "markdown",
      "metadata": {
        "id": "oqp44melNJtq"
      },
      "source": [
        "### Validar os registros inseridos DW - Dimensão DPs"
      ]
    },
    {
      "cell_type": "code",
      "execution_count": null,
      "metadata": {
        "id": "GVZ-E2LpNJtq"
      },
      "outputs": [],
      "source": [
        "#Conectar no DW\n",
        "conexao_dw = sql.connect(bd_dw)\n",
        "\n",
        "#Select de validação:\n",
        "select_dw = pd.read_sql('''SELECT \n",
        "                                codDP [Código do Departamento],\n",
        "                                nomeDP [Nome do Departamento],\n",
        "                                enderDP [Endereço do Departamento],\n",
        "                                nomeResp [Nome do Responsável] \n",
        "                           FROM dDP'''\n",
        "            ,conexao_dw)\n",
        "\n",
        "#Encerrar a conexão\n",
        "conexao_dw.close()\n",
        "\n",
        "#Exibir select de validação\n",
        "select_dw"
      ]
    },
    {
      "cell_type": "markdown",
      "source": [
        "### Validar os registros inseridos DW - Dimensão BPM"
      ],
      "metadata": {
        "id": "8zLm4hbB6650"
      }
    },
    {
      "cell_type": "code",
      "source": [
        "#Conectar no DW\n",
        "conexao_dw = sql.connect(bd_dw)\n",
        "\n",
        "#Select de validação:\n",
        "select_dw = pd.read_sql('''SELECT \n",
        "                                codBPM [Código do BPM],\n",
        "                                nomeBPM [Nome do BPM],\n",
        "                                enderBPM [Endereço do BPM],\n",
        "                                areaBPM [Área do BPM]\n",
        "                           FROM dBPM'''\n",
        "            ,conexao_dw)\n",
        "\n",
        "#Encerrar a conexão\n",
        "conexao_dw.close()\n",
        "\n",
        "#Exibir select de validação\n",
        "select_dw"
      ],
      "metadata": {
        "id": "CADItcgy7Cyt"
      },
      "execution_count": null,
      "outputs": []
    },
    {
      "cell_type": "markdown",
      "source": [
        "### Validar os registros inseridos DW - Dimensão dPeriodo"
      ],
      "metadata": {
        "id": "Vuor7nupgPcb"
      }
    },
    {
      "cell_type": "code",
      "source": [
        "#Conectar no DW\n",
        "conexao_dw = sql.connect(bd_dw)\n",
        "\n",
        "#Select de validação:\n",
        "select_dw = pd.read_sql('''SELECT \n",
        "                                sk_idPeriodo [Identificador do Período],\n",
        "                                data [Data],\n",
        "                                mes [Mês],\n",
        "                                ano [Ano],\n",
        "                                trimestre [Trimestre (T1, T2 ou T3)],\n",
        "                                semestre [(S1 ou S2)]\n",
        "                           FROM dPeriodo\n",
        "                         '''\n",
        "            ,conexao_dw)\n",
        "\n",
        "#Encerrar a conexão\n",
        "conexao_dw.close()\n",
        "\n",
        "#Exibir select de validação\n",
        "select_dw"
      ],
      "metadata": {
        "id": "j_Qd3IFrgVFE"
      },
      "execution_count": null,
      "outputs": []
    },
    {
      "cell_type": "markdown",
      "source": [
        "### Validar os registros inseridos DW - Fato Ocorrências"
      ],
      "metadata": {
        "id": "ETVDb9y0cknf"
      }
    },
    {
      "cell_type": "code",
      "source": [
        "#Conectar no DW\n",
        "conexao_dw = sql.connect(bd_dw)\n",
        "\n",
        "#Select de validação:\n",
        "select_dw = pd.read_sql('''SELECT \n",
        "                                *\n",
        "                           FROM fOcorrencias\n",
        "                         '''\n",
        "            ,conexao_dw)\n",
        "\n",
        "#Encerrar a conexão\n",
        "conexao_dw.close()\n",
        "\n",
        "#Exibir select de validação\n",
        "select_dw"
      ],
      "metadata": {
        "id": "WSwDBbopcoG-",
        "outputId": "27585360-5f36-4caf-bbd9-6b63fbe21709",
        "colab": {
          "base_uri": "https://localhost:8080/",
          "height": 49
        }
      },
      "execution_count": 150,
      "outputs": [
        {
          "output_type": "execute_result",
          "data": {
            "text/plain": [
              "Empty DataFrame\n",
              "Columns: [idDP, idBPM, idPeriodo, regiao, idMunic, ocorrencia, somaQtd]\n",
              "Index: []"
            ],
            "text/html": [
              "\n",
              "  <div id=\"df-d230f0e8-baeb-4e31-9e14-e33825f6dd8b\">\n",
              "    <div class=\"colab-df-container\">\n",
              "      <div>\n",
              "<style scoped>\n",
              "    .dataframe tbody tr th:only-of-type {\n",
              "        vertical-align: middle;\n",
              "    }\n",
              "\n",
              "    .dataframe tbody tr th {\n",
              "        vertical-align: top;\n",
              "    }\n",
              "\n",
              "    .dataframe thead th {\n",
              "        text-align: right;\n",
              "    }\n",
              "</style>\n",
              "<table border=\"1\" class=\"dataframe\">\n",
              "  <thead>\n",
              "    <tr style=\"text-align: right;\">\n",
              "      <th></th>\n",
              "      <th>idDP</th>\n",
              "      <th>idBPM</th>\n",
              "      <th>idPeriodo</th>\n",
              "      <th>regiao</th>\n",
              "      <th>idMunic</th>\n",
              "      <th>ocorrencia</th>\n",
              "      <th>somaQtd</th>\n",
              "    </tr>\n",
              "  </thead>\n",
              "  <tbody>\n",
              "  </tbody>\n",
              "</table>\n",
              "</div>\n",
              "      <button class=\"colab-df-convert\" onclick=\"convertToInteractive('df-d230f0e8-baeb-4e31-9e14-e33825f6dd8b')\"\n",
              "              title=\"Convert this dataframe to an interactive table.\"\n",
              "              style=\"display:none;\">\n",
              "        \n",
              "  <svg xmlns=\"http://www.w3.org/2000/svg\" height=\"24px\"viewBox=\"0 0 24 24\"\n",
              "       width=\"24px\">\n",
              "    <path d=\"M0 0h24v24H0V0z\" fill=\"none\"/>\n",
              "    <path d=\"M18.56 5.44l.94 2.06.94-2.06 2.06-.94-2.06-.94-.94-2.06-.94 2.06-2.06.94zm-11 1L8.5 8.5l.94-2.06 2.06-.94-2.06-.94L8.5 2.5l-.94 2.06-2.06.94zm10 10l.94 2.06.94-2.06 2.06-.94-2.06-.94-.94-2.06-.94 2.06-2.06.94z\"/><path d=\"M17.41 7.96l-1.37-1.37c-.4-.4-.92-.59-1.43-.59-.52 0-1.04.2-1.43.59L10.3 9.45l-7.72 7.72c-.78.78-.78 2.05 0 2.83L4 21.41c.39.39.9.59 1.41.59.51 0 1.02-.2 1.41-.59l7.78-7.78 2.81-2.81c.8-.78.8-2.07 0-2.86zM5.41 20L4 18.59l7.72-7.72 1.47 1.35L5.41 20z\"/>\n",
              "  </svg>\n",
              "      </button>\n",
              "      \n",
              "  <style>\n",
              "    .colab-df-container {\n",
              "      display:flex;\n",
              "      flex-wrap:wrap;\n",
              "      gap: 12px;\n",
              "    }\n",
              "\n",
              "    .colab-df-convert {\n",
              "      background-color: #E8F0FE;\n",
              "      border: none;\n",
              "      border-radius: 50%;\n",
              "      cursor: pointer;\n",
              "      display: none;\n",
              "      fill: #1967D2;\n",
              "      height: 32px;\n",
              "      padding: 0 0 0 0;\n",
              "      width: 32px;\n",
              "    }\n",
              "\n",
              "    .colab-df-convert:hover {\n",
              "      background-color: #E2EBFA;\n",
              "      box-shadow: 0px 1px 2px rgba(60, 64, 67, 0.3), 0px 1px 3px 1px rgba(60, 64, 67, 0.15);\n",
              "      fill: #174EA6;\n",
              "    }\n",
              "\n",
              "    [theme=dark] .colab-df-convert {\n",
              "      background-color: #3B4455;\n",
              "      fill: #D2E3FC;\n",
              "    }\n",
              "\n",
              "    [theme=dark] .colab-df-convert:hover {\n",
              "      background-color: #434B5C;\n",
              "      box-shadow: 0px 1px 3px 1px rgba(0, 0, 0, 0.15);\n",
              "      filter: drop-shadow(0px 1px 2px rgba(0, 0, 0, 0.3));\n",
              "      fill: #FFFFFF;\n",
              "    }\n",
              "  </style>\n",
              "\n",
              "      <script>\n",
              "        const buttonEl =\n",
              "          document.querySelector('#df-d230f0e8-baeb-4e31-9e14-e33825f6dd8b button.colab-df-convert');\n",
              "        buttonEl.style.display =\n",
              "          google.colab.kernel.accessAllowed ? 'block' : 'none';\n",
              "\n",
              "        async function convertToInteractive(key) {\n",
              "          const element = document.querySelector('#df-d230f0e8-baeb-4e31-9e14-e33825f6dd8b');\n",
              "          const dataTable =\n",
              "            await google.colab.kernel.invokeFunction('convertToInteractive',\n",
              "                                                     [key], {});\n",
              "          if (!dataTable) return;\n",
              "\n",
              "          const docLinkHtml = 'Like what you see? Visit the ' +\n",
              "            '<a target=\"_blank\" href=https://colab.research.google.com/notebooks/data_table.ipynb>data table notebook</a>'\n",
              "            + ' to learn more about interactive tables.';\n",
              "          element.innerHTML = '';\n",
              "          dataTable['output_type'] = 'display_data';\n",
              "          await google.colab.output.renderOutput(dataTable, element);\n",
              "          const docLink = document.createElement('div');\n",
              "          docLink.innerHTML = docLinkHtml;\n",
              "          element.appendChild(docLink);\n",
              "        }\n",
              "      </script>\n",
              "    </div>\n",
              "  </div>\n",
              "  "
            ]
          },
          "metadata": {},
          "execution_count": 150
        }
      ]
    }
  ],
  "metadata": {
    "kernelspec": {
      "display_name": "Python 3",
      "language": "python",
      "name": "python3"
    },
    "language_info": {
      "codemirror_mode": {
        "name": "ipython",
        "version": 3
      },
      "file_extension": ".py",
      "mimetype": "text/x-python",
      "name": "python",
      "nbconvert_exporter": "python",
      "pygments_lexer": "ipython3",
      "version": "3.7.6"
    },
    "colab": {
      "name": "Analise_MunicipiosxDelegacias_RJ.ipynb",
      "provenance": []
    }
  },
  "nbformat": 4,
  "nbformat_minor": 0
}