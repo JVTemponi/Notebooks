{
 "cells": [
  {
   "cell_type": "code",
   "execution_count": null,
   "metadata": {},
   "outputs": [],
   "source": [
    "# imports necessários:\n",
    "import pandas as pd\n",
    "from pathlib import PosixPath \n",
    "from datetime import datetime\n",
    "import sqlite3 as sql\n",
    "\n",
    "#Endereço dos arquivos CSV (Exemplo Linux):\n",
    "local_arquivos = PosixPath('/home/juvito/Projeto-pyton/Dados/')\n"
   ]
  },
  {
   "cell_type": "markdown",
   "metadata": {},
   "source": [
    "# Coleta dos dados: IBGE"
   ]
  },
  {
   "cell_type": "code",
   "execution_count": null,
   "metadata": {},
   "outputs": [],
   "source": [
    "#Coletar dados dos municípios do Rio de Janeiro (site IBGE)\n",
    "url = 'https://www.ibge.gov.br/explica/codigos-dos-municipios.php#RJ'\n",
    "\n",
    "#Transformar os dados em um Data Frame\n",
    "ibge_dados_rj = pd.DataFrame(pd.read_html(url, match='Municípios do Rio de Janeiro')[0])\n",
    "\n",
    "#Ajustar a nomenclatura das colunas do Data Frame:\n",
    "ibge_dados_rj = ibge_dados_rj.rename(columns = {'Municípios do Rio de Janeiro': 'nomeMunic', 'Códigos': 'codMunic'})\n",
    "\n",
    "#Adicionar coluna de tempo ao Data Frame:\n",
    "ibge_dados_rj['dtCarga'] = datetime.today().strftime('%d/%m/%Y %H:%M')\n",
    "\n",
    "#Ajustar index do Data Frame para idMunic\n",
    "ibge_dados_rj.index.name = 'idMunic'\n",
    "#Ajustar numeração do índice, para começar em 1\n",
    "ibge_dados_rj.index = ibge_dados_rj.index + 1\n"
   ]
  },
  {
   "cell_type": "markdown",
   "metadata": {},
   "source": [
    "# Coleta dos dados: Delegacias"
   ]
  },
  {
   "cell_type": "markdown",
   "metadata": {},
   "source": [
    "### Cadastro das Delegacias de Polícia RJ"
   ]
  },
  {
   "cell_type": "code",
   "execution_count": null,
   "metadata": {},
   "outputs": [],
   "source": [
    "#Criar Data Frame com os dados das DPs\n",
    "tb_log_dp = pd.DataFrame(pd.read_csv(local_arquivos / \"DP.csv\"))\n",
    "\n",
    "#Ajustar a nomenclatura das colunas do Data Frame:\n",
    "tb_log_dp = tb_log_dp.rename(columns = {'COD_DP': 'idDP', 'NM_DP':'nomeDP', 'Endereço':'enderDP'})\n",
    "\n",
    "#Adicionar coluna de Data e Hora da carga no Data Frame \n",
    "tb_log_dp['dtCarga'] = datetime.today().strftime('%d/%m/%Y %H:%M')\n"
   ]
  },
  {
   "cell_type": "markdown",
   "metadata": {},
   "source": [
    "### Cadastro dos Responsáveis pelas Delegacias de Polícia RJ\n"
   ]
  },
  {
   "cell_type": "code",
   "execution_count": null,
   "metadata": {},
   "outputs": [],
   "source": [
    "#Criar Data Frame com os dados dos responsáveis pelas DPs\n",
    "tb_log_resp_dp = pd.DataFrame(pd.read_csv(local_arquivos / \"ResponsavelDP.csv\"))\n",
    "                                     \n",
    "#Ajustar a nomenclatura das colunas do Data Frame:\n",
    "tb_log_resp_dp = tb_log_resp_dp.rename(columns = {'COD_DP': 'idDP', 'Responsavel':'nomeResp'})\n",
    "\n",
    "#Adicionar coluna de Data e Hora da carga no Data Frame \n",
    "tb_log_resp_dp['dtCarga'] = datetime.today().strftime('%d/%m/%Y %H:%M')\n"
   ]
  },
  {
   "cell_type": "markdown",
   "metadata": {},
   "source": [
    "# Configuração Banco de Dados: ODS e DW - SQLite"
   ]
  },
  {
   "cell_type": "code",
   "execution_count": null,
   "metadata": {},
   "outputs": [],
   "source": [
    "##Manipular sistema de arquivos:\n",
    "endereco = PosixPath('/home/juvito/Projeto-pyton')\n",
    "\n",
    "#Local onde serão salvas as bases de dados\n",
    "bd_ods = endereco / \"ibgeODS.db\"\n",
    "bd_dw = endereco / \"ibgeDW.db\"\n",
    "\n",
    "#Validar a existência das bases\n",
    "if endereco.exists():\n",
    "    if (bd_ods.exists() and bd_dw.exists()):\n",
    "        print('Bancos de dados já existem!')\n",
    "    else:\n",
    "        bd_ods.touch()\n",
    "        bd_dw.touch()\n",
    "        print('Bancos de dados criados!')\n",
    "else:\n",
    "    print('Endereço não existe, favor verificar!')\n",
    "    \n"
   ]
  },
  {
   "cell_type": "markdown",
   "metadata": {},
   "source": [
    "# Manipulação dos Dados - ODS"
   ]
  },
  {
   "cell_type": "markdown",
   "metadata": {},
   "source": [
    "### Inserir os registros: Cadastro Municípios"
   ]
  },
  {
   "cell_type": "code",
   "execution_count": null,
   "metadata": {},
   "outputs": [],
   "source": [
    "#Conectar no ODS\n",
    "conexao_ods = sql.connect(bd_ods)\n",
    "\n",
    "#Definir variável para manipulação\n",
    "cursor_ods = conexao_ods.cursor()\n",
    "\n",
    "#Criar tabela, caso não exista:\n",
    "cursor_ods.execute(\n",
    "\n",
    "    '''\n",
    "        CREATE TABLE IF NOT EXISTS \"tbLogMunic\" (\n",
    "        \"idMunic\" INTEGER,\n",
    "          \"nomeMunic\" TEXT,\n",
    "          \"codMunic\" INTEGER,\n",
    "          \"dtCarga\" TEXT\n",
    "        )\n",
    "     '''\n",
    ")\n",
    "\n",
    "#Adicionar novos registros à tabela tbLogMunic\n",
    "ibge_dados_rj.to_sql('tbLogMunic', conexao_ods, if_exists='append')\n",
    "\n",
    "#Confirmar insert e encerrando a conexão\n",
    "conexao_ods.commit()\n",
    "conexao_ods.close()\n",
    "\n",
    "print(\"Carga ODS Cadastro de Municípios finalizada!\",len(ibge_dados_rj),\"Registros inseridos!\")"
   ]
  },
  {
   "cell_type": "markdown",
   "metadata": {},
   "source": [
    "### Inserir os registros: Cadastro DPs"
   ]
  },
  {
   "cell_type": "code",
   "execution_count": null,
   "metadata": {},
   "outputs": [],
   "source": [
    "#Conectar no ODS\n",
    "conexao_ods = sql.connect(bd_ods)\n",
    "\n",
    "#Definir variável para manipulação\n",
    "cursor_ods = conexao_ods.cursor()\n",
    "\n",
    "#Criar tabela, caso não exista:\n",
    "cursor_ods.execute(\n",
    "\n",
    "    '''\n",
    "        CREATE TABLE IF NOT EXISTS \"tbLogDP\" (\n",
    "          \"idDP\" INTEGER,\n",
    "          \"nomeDP\" VARCHAR(200),\n",
    "          \"enderDP\" VARCHAR(200),\n",
    "          \"dtCarga\" DATETIME\n",
    "        )\n",
    "        \n",
    "    '''\n",
    ")\n",
    "\n",
    "\n",
    "#Inserir dados\n",
    "cursor_ods.executemany('''INSERT INTO tbLogDP(idDP,nomeDP,enderDP,dtCarga) VALUES(?,?,?,?)''',tb_log_dp.values.tolist())\n",
    "\n",
    "#Confirmar insert e encerrando a conexão\n",
    "conexao_ods.commit()\n",
    "conexao_ods.close()\n",
    "\n",
    "#Mensagem de conslusão\n",
    "print(\"Carga ODS Cadastro de DPs finalizada!\",len(tb_log_dp),\"Registros inseridos!\")\n"
   ]
  },
  {
   "cell_type": "markdown",
   "metadata": {},
   "source": [
    "### Validar os registros inseridos ODS - Cadastro DPs"
   ]
  },
  {
   "cell_type": "code",
   "execution_count": null,
   "metadata": {},
   "outputs": [],
   "source": [
    "#Conectar no ODS\n",
    "conexao_ods = sql.connect(bd_ods)\n",
    "\n",
    "#Select de validação:\n",
    "select_ods = 'SELECT * FROM tbLogDP ORDER BY dtCarga DESC LIMIT '+ str(len(tb_log_dp))\n",
    "select_ods = pd.read_sql(select_ods,conexao_ods)\n",
    "\n",
    "#Encerrar a conexão\n",
    "conexao_ods.close()\n",
    "\n",
    "#Exibir select de validação\n",
    "select_ods"
   ]
  },
  {
   "cell_type": "markdown",
   "metadata": {},
   "source": [
    "### Inserir os registros: Cadastro Responsáveis DPs"
   ]
  },
  {
   "cell_type": "code",
   "execution_count": null,
   "metadata": {},
   "outputs": [],
   "source": [
    "#Conectar no ODS\n",
    "conexao_ods = sql.connect(bd_ods)\n",
    "\n",
    "#Definir variável para manipulação\n",
    "cursor_ods = conexao_ods.cursor()\n",
    "\n",
    "#Criar tabela, caso não exista:\n",
    "cursor_ods.execute(\n",
    "\n",
    "    '''\n",
    "        CREATE TABLE IF NOT EXISTS \"tbLogRespDP\" (\n",
    "          \"idDP\" INTEGER,\n",
    "          \"nomeResp\" VARCHAR(200),\n",
    "          \"dtCarga\" DATETIME\n",
    "        )\n",
    "     '''\n",
    ")\n",
    "\n",
    "#Inserir dados\n",
    "cursor_ods.executemany('''INSERT INTO tbLogRespDP(idDP,nomeResp,dtCarga) VALUES(?,?,?)''',tb_log_resp_dp.values.tolist())\n",
    "\n",
    "#Confirmar insert e encerrando a conexão\n",
    "conexao_ods.commit()\n",
    "conexao_ods.close()\n",
    "\n",
    "#Mensagem de conslusão\n",
    "print(\"Carga ODS Responsáveis de DPs finalizada!\",len(tb_log_resp_dp),\"Registros inseridos!\")"
   ]
  },
  {
   "cell_type": "markdown",
   "metadata": {},
   "source": [
    "### Validar os registros inseridos ODS - Cadastro Responsáveis DPs"
   ]
  },
  {
   "cell_type": "code",
   "execution_count": null,
   "metadata": {
    "scrolled": false
   },
   "outputs": [],
   "source": [
    "#Conectar no ODS\n",
    "conexao_ods = sql.connect(bd_ods)\n",
    "\n",
    "#Select de validação:\n",
    "select_ods = 'SELECT * FROM tbLogRespDP  ORDER BY dtCarga DESC LIMIT ' + str(len(tb_log_resp_dp))\n",
    "select_ods = pd.read_sql(select_ods,conexao_ods)\n",
    "\n",
    "#Encerrar a conexão\n",
    "conexao_ods.close()\n",
    "\n",
    "#Exibir select de validação\n",
    "select_ods"
   ]
  },
  {
   "cell_type": "markdown",
   "metadata": {},
   "source": [
    "# Manipulação dos Dados - DW"
   ]
  },
  {
   "cell_type": "markdown",
   "metadata": {},
   "source": [
    "### Inserir os registros: Cadastro de Municípios"
   ]
  },
  {
   "cell_type": "code",
   "execution_count": null,
   "metadata": {},
   "outputs": [],
   "source": [
    "#Conectar no DW\n",
    "conexao_dw = sql.connect(bd_dw)\n",
    "\n",
    "#Definir variável para manipulação\n",
    "cursor_dw = conexao_dw.cursor()\n",
    "\n",
    "#Criar tabela, caso não exista:\n",
    "cursor_dw.execute(\n",
    "\n",
    "    '''\n",
    "        CREATE TABLE IF NOT EXISTS \"dMunicipio\" (\n",
    "          \"idMunic\" INTEGER,\n",
    "          \"codMunic\" INTEGER,\n",
    "          \"nomeMunic\" TEXT\n",
    "        )\n",
    "\n",
    "     '''\n",
    ")\n",
    "\n",
    "#Criar Data Frame para popular o DW\n",
    "ibge_dados_rj_dw = ibge_dados_rj[['codMunic','nomeMunic']]\n",
    "\n",
    "#Criar e/ou popular a dimensão dMunicipio com o DF ibge_dados_rj_dw\n",
    "ibge_dados_rj_dw.to_sql('dMunicipio', conexao_dw, if_exists='replace')\n",
    "\n",
    "#Confirmar insert e encerrando a conexão\n",
    "conexao_dw.commit()\n",
    "conexao_dw.close()\n",
    "\n",
    "#Mensagem de conslusão\n",
    "print(\"Carga ODS Responsáveis de DPs finalizada!\",len(ibge_dados_rj_dw),\"Registros inseridos!\")"
   ]
  },
  {
   "cell_type": "markdown",
   "metadata": {},
   "source": [
    "### Validar os registros inseridos DW - Dimensão Municípios"
   ]
  },
  {
   "cell_type": "code",
   "execution_count": null,
   "metadata": {
    "scrolled": true
   },
   "outputs": [],
   "source": [
    "#Conectar no DW\n",
    "conexao_dw = sql.connect(bd_dw)\n",
    "\n",
    "#Select de validação:\n",
    "select_dw = pd.read_sql('SELECT * FROM dMunicipio',conexao_dw)\n",
    "\n",
    "#Encerrando a conexão\n",
    "conexao_dw.close()\n",
    "\n",
    "#Exibindo select de validação\n",
    "select_dw"
   ]
  },
  {
   "cell_type": "markdown",
   "metadata": {},
   "source": [
    "### Inserir os registros: DPs e responsáveis"
   ]
  },
  {
   "cell_type": "code",
   "execution_count": null,
   "metadata": {},
   "outputs": [],
   "source": [
    "#Conectar no DW\n",
    "conexao_dw = sql.connect(bd_dw)\n",
    "\n",
    "#Definir variável para manipulação\n",
    "cursor_dw = conexao_dw.cursor()\n",
    "\n",
    "#Query para dimensão dDP:\n",
    "\n",
    "dDP ='''\n",
    "SELECT \n",
    "    [Identificador do Departamento],\n",
    "    [Nome do Departamento],\n",
    "    [Endereço do Departamento],\n",
    "    [Nome do Responsável]\n",
    "FROM\n",
    "    (\n",
    "        SELECT \n",
    "            DP.idDP [Identificador do Departamento],\n",
    "            DP.nomeDP [Nome do Departamento],\n",
    "            DP.enderDP [Endereço do Departamento],\n",
    "            RESP.nomeResp [Nome do Responsável],\n",
    "            MAX(DP.dtCarga) [Horário da última carga dos dados]\n",
    "        FROM tbLogDP DP\n",
    "            INNER JOIN tbLogRespDP RESP on RESP.idDP = DP.idDP\n",
    "        GROUP BY\n",
    "            DP.idDP,\n",
    "            DP.nomeDP,\n",
    "            DP.enderDP,\n",
    "            RESP.nomeResp\n",
    "    ) dDP\n",
    "'''\n",
    "\n",
    "#Conectar no ODS\n",
    "conexao_ods = sql.connect(bd_ods)\n",
    "\n",
    "#Preencher o Data Frame da dimensão dDP\n",
    "dDP = pd.read_sql(dDP,conexao_ods)\n",
    "\n",
    "#Confirmar a leitura e encerrando a conexão ODS\n",
    "conexao_ods.commit()\n",
    "conexao_ods.close()\n",
    "\n",
    "#Criar tabela, caso não exista:\n",
    "cursor_dw.execute(\n",
    "\n",
    "    '''\n",
    "        CREATE TABLE IF NOT EXISTS \"dDP\" (\n",
    "          \"idDP\"  INTEGER PRIMARY KEY AUTOINCREMENT ,\n",
    "          \"nomeDP\" VARCHAR(200),\n",
    "          \"enderDP\" VARCHAR(200),\n",
    "          \"nomeResp\" VARCHAR(200)\n",
    "        )\n",
    "\n",
    "     '''\n",
    ")\n",
    "\n",
    "#Limpar a dimensão para inserir os novos registros:\n",
    "cursor_dw.execute(''' DELETE FROM dDP''')\n",
    "cursor_dw.execute('UPDATE sqlite_sequence SET seq=0 WHERE name=\"dDP\"')\n",
    "\n",
    "#Inserir os registros\n",
    "cursor_dw.executemany('''INSERT INTO dDP(idDP,nomeDP,enderDP,nomeResp) VALUES(?,?,?,?)''',dDP.values.tolist())\n",
    "\n",
    "#Confirmar o delete, insert e encerrando a conexão DW\n",
    "conexao_dw.commit()\n",
    "conexao_dw.close()\n",
    "\n"
   ]
  },
  {
   "cell_type": "markdown",
   "metadata": {},
   "source": [
    "### Validar os registros inseridos DW - Dimensão DPs"
   ]
  },
  {
   "cell_type": "code",
   "execution_count": null,
   "metadata": {},
   "outputs": [],
   "source": [
    "#Conectar no DW\n",
    "conexao_dw = sql.connect(bd_dw)\n",
    "\n",
    "#Select de validação:\n",
    "select_dw = pd.read_sql('''SELECT \n",
    "                                idDP [Identificador do Departamento],\n",
    "                                nomeDP [Nome do Departamento],\n",
    "                                enderDP [Endereço do Departamento],\n",
    "                                nomeResp [Nome do Responsável] \n",
    "                           FROM dDP'''\n",
    "            ,conexao_dw)\n",
    "\n",
    "#Encerrar a conexão\n",
    "conexao_dw.close()\n",
    "\n",
    "#Exibir select de validação\n",
    "select_dw"
   ]
  }
 ],
 "metadata": {
  "kernelspec": {
   "display_name": "Python 3",
   "language": "python",
   "name": "python3"
  },
  "language_info": {
   "codemirror_mode": {
    "name": "ipython",
    "version": 3
   },
   "file_extension": ".py",
   "mimetype": "text/x-python",
   "name": "python",
   "nbconvert_exporter": "python",
   "pygments_lexer": "ipython3",
   "version": "3.7.6"
  }
 },
 "nbformat": 4,
 "nbformat_minor": 4
}
