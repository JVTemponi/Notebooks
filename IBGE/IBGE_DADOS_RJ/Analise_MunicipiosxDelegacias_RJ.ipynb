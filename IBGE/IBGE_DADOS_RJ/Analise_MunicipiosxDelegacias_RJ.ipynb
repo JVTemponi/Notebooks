{
  "cells": [
    {
      "cell_type": "code",
      "execution_count": null,
      "metadata": {
        "id": "b755ammeNJtW"
      },
      "outputs": [],
      "source": [
        "# imports necessários:\n",
        "import pandas as pd\n",
        "from pathlib import PosixPath \n",
        "from datetime import datetime\n",
        "import sqlite3 as sql\n",
        "\n",
        "#Endereço dos arquivos CSV:\n",
        "local_arquivos = PosixPath('/content/FontesDeDados')"
      ]
    },
    {
      "cell_type": "markdown",
      "metadata": {
        "id": "wAHZjKi8NJtb"
      },
      "source": [
        "# Coleta dos dados: IBGE"
      ]
    },
    {
      "cell_type": "code",
      "execution_count": null,
      "metadata": {
        "id": "t8QjR839NJtc"
      },
      "outputs": [],
      "source": [
        "#Coletar dados dos municípios do Rio de Janeiro (site IBGE)\n",
        "url = 'https://www.ibge.gov.br/explica/codigos-dos-municipios.php#RJ'\n",
        "\n",
        "#Transformar os dados em um Data Frame\n",
        "ibge_dados_rj = pd.DataFrame(pd.read_html(url, match='Municípios do Rio de Janeiro')[0])\n",
        "\n",
        "#Ajustar a nomenclatura das colunas do Data Frame:\n",
        "ibge_dados_rj = ibge_dados_rj.rename(columns = {'Municípios do Rio de Janeiro': 'nomeMunic', 'Códigos': 'codMunic'})\n",
        "\n",
        "#Adicionar coluna de tempo ao Data Frame:\n",
        "ibge_dados_rj['dtCarga'] = datetime.today().strftime('%d/%m/%Y %H:%M')\n",
        "\n",
        "#Ajustar index do Data Frame para idMunic\n",
        "ibge_dados_rj.index.name = 'idMunic'\n",
        "#Ajustar numeração do índice, para começar em 1\n",
        "ibge_dados_rj.index = ibge_dados_rj.index + 1\n"
      ]
    },
    {
      "cell_type": "markdown",
      "metadata": {
        "id": "593V0S2dNJtd"
      },
      "source": [
        "# Coleta dos dados: Delegacias"
      ]
    },
    {
      "cell_type": "markdown",
      "metadata": {
        "id": "FFBna4NYNJte"
      },
      "source": [
        "### Cadastro das Delegacias de Polícia RJ"
      ]
    },
    {
      "cell_type": "code",
      "execution_count": null,
      "metadata": {
        "id": "DYUxFRsANJtf"
      },
      "outputs": [],
      "source": [
        "#Criar Data Frame com os dados das DPs\n",
        "tb_log_dp = pd.DataFrame(pd.read_csv(local_arquivos / \"DP.csv\"))\n",
        "\n",
        "#Ajustar a nomenclatura das colunas do Data Frame:\n",
        "tb_log_dp = tb_log_dp.rename(columns = {'COD_DP': 'idDP', 'NM_DP':'nomeDP', 'Endereço':'enderDP'})\n",
        "\n",
        "#Adicionar coluna de Data e Hora da carga no Data Frame \n",
        "tb_log_dp['dtCarga'] = datetime.today().strftime('%d/%m/%Y %H:%M')\n"
      ]
    },
    {
      "cell_type": "markdown",
      "metadata": {
        "id": "rKqe1TcgNJtg"
      },
      "source": [
        "### Cadastro dos Responsáveis pelas Delegacias de Polícia RJ\n"
      ]
    },
    {
      "cell_type": "code",
      "execution_count": null,
      "metadata": {
        "id": "-sALuIRJNJtg"
      },
      "outputs": [],
      "source": [
        "#Criar Data Frame com os dados dos responsáveis pelas DPs\n",
        "tb_log_resp_dp = pd.DataFrame(pd.read_csv(local_arquivos / \"ResponsavelDP.csv\"))\n",
        "                                     \n",
        "#Ajustar a nomenclatura das colunas do Data Frame:\n",
        "tb_log_resp_dp = tb_log_resp_dp.rename(columns = {'COD_DP': 'idDP', 'Responsavel':'nomeResp'})\n",
        "\n",
        "#Adicionar coluna de Data e Hora da carga no Data Frame \n",
        "tb_log_resp_dp['dtCarga'] = datetime.today().strftime('%d/%m/%Y %H:%M')\n"
      ]
    },
    {
      "cell_type": "markdown",
      "source": [
        "# Coleta dos dados: Batalhões Polícia Militar\n"
      ],
      "metadata": {
        "id": "KY-A6XVm6CCH"
      }
    },
    {
      "cell_type": "markdown",
      "source": [
        "### Cadastro dos registros dos batalhões\n"
      ],
      "metadata": {
        "id": "Q0VO2-W56aqb"
      }
    },
    {
      "cell_type": "code",
      "source": [
        "#Criar Data Frame com os dados dos BPM\n",
        "tb_log_bpm = pd.DataFrame(pd.read_csv(local_arquivos / \"BPM.csv\"))\n",
        "tb_log_bpm['dtCarga'] = datetime.today().strftime('%d/%m/%Y %H:%M')\n",
        "\n",
        "#Ajustar a nomenclatura das colunas do Data Frame:\n",
        "tb_log_bpm = tb_log_bpm.rename(columns = {'COD_BPM': 'idBPM', 'NM_BPM':'nomeBPM','Endereco':'enderBPM'})\n"
      ],
      "metadata": {
        "id": "BGODL3tz6l-S"
      },
      "execution_count": null,
      "outputs": []
    },
    {
      "cell_type": "markdown",
      "source": [
        "### Cadastro das áreas dos BPM"
      ],
      "metadata": {
        "id": "tcoVvwTzqxob"
      }
    },
    {
      "cell_type": "code",
      "source": [
        "#Criar Data Frame com os dados das áreas dos BPM\n",
        "tb_log_area_bpm = pd.DataFrame(pd.read_csv(local_arquivos / \"areaBPMv1.csv\"))\n",
        "tb_log_area_bpm['dtCarga'] = datetime.today().strftime('%d/%m/%Y %H:%M')\n",
        "\n",
        "#Ajustar a nomenclatura das colunas do Data Frame:\n",
        "tb_log_area_bpm = tb_log_area_bpm.rename(columns = {'aisp': 'idBPM', 'area_aisp_km2':'areaBPM'})"
      ],
      "metadata": {
        "id": "ahaLq2sarIj0"
      },
      "execution_count": null,
      "outputs": []
    },
    {
      "cell_type": "markdown",
      "metadata": {
        "id": "J17vzUGpNJth"
      },
      "source": [
        "# Configuração Banco de Dados: ODS e DW - SQLite"
      ]
    },
    {
      "cell_type": "code",
      "execution_count": null,
      "metadata": {
        "id": "DrOpkDJTNJti"
      },
      "outputs": [],
      "source": [
        "##Manipular sistema de arquivos:\n",
        "endereco = PosixPath('/content/BasesDeDados')\n",
        "\n",
        "#Local onde serão salvas as bases de dados\n",
        "bd_ods = endereco / \"baseODS.db\"\n",
        "bd_dw = endereco / \"baseDW.db\"\n",
        "\n",
        "#Validar a existência das bases\n",
        "if endereco.exists():\n",
        "    if (bd_ods.exists() and bd_dw.exists()):\n",
        "        print('Bancos de dados já existem!')\n",
        "    else:\n",
        "        bd_ods.touch()\n",
        "        bd_dw.touch()\n",
        "        print('Bancos de dados criados!')\n",
        "else:\n",
        "    print('Endereço não existe, favor verificar!')\n",
        "    \n"
      ]
    },
    {
      "cell_type": "markdown",
      "source": [
        "### Criação das tabelas - ODS"
      ],
      "metadata": {
        "id": "ZfeHwIeGDgOT"
      }
    },
    {
      "cell_type": "code",
      "source": [
        "#Conectar no ODS\n",
        "conexao_ods = sql.connect(bd_ods)\n",
        "\n",
        "#Definir variável para manipulação\n",
        "cursor_ods = conexao_ods.cursor()\n",
        "\n",
        "#Criar tabelase e índices, caso não existam:\n",
        "####---------------tbLogMunic---------------####\n",
        "cursor_ods.execute(\n",
        "\n",
        "    '''\n",
        "        CREATE TABLE IF NOT EXISTS \"tbLogMunic\" (\n",
        "          \"idMunic\" INTEGER,\n",
        "          \"nomeMunic\" TEXT,\n",
        "          \"codMunic\" INTEGER,\n",
        "          \"dtCarga\" TEXT\n",
        "        )\n",
        "     '''\n",
        ")\n",
        "cursor_ods.execute('CREATE INDEX IF NOT EXISTS idx_tbLogMunic_idMunic ON tbLogMunic(idMunic)')\n",
        "####----------------------------------------####\n",
        "####---------------tbLogDP------------------####\n",
        "cursor_ods.execute(\n",
        "\n",
        "    '''\n",
        "        CREATE TABLE IF NOT EXISTS \"tbLogDP\" (\n",
        "          \"idDP\" INTEGER,\n",
        "          \"nomeDP\" VARCHAR(200),\n",
        "          \"enderDP\" VARCHAR(200),\n",
        "          \"dtCarga\" DATETIME\n",
        "        )\n",
        "        \n",
        "    '''\n",
        ")\n",
        "cursor_ods.execute('CREATE INDEX IF NOT EXISTS idx_tbLogDP_idDP ON tbLogDP(idDP)')\n",
        "####----------------------------------------####\n",
        "####---------------tbLogRespDP--------------####\n",
        "cursor_ods.execute(\n",
        "\n",
        "    '''\n",
        "        CREATE TABLE IF NOT EXISTS \"tbLogRespDP\" (\n",
        "          \"idDP\" INTEGER,\n",
        "          \"nomeResp\" VARCHAR(200),\n",
        "          \"dtCarga\" DATETIME\n",
        "        )\n",
        "     '''\n",
        ")\n",
        "cursor_ods.execute('CREATE INDEX IF NOT EXISTS idx_tbLogRespDP_idDP ON tbLogRespDP(idDP)')\n",
        "####----------------------------------------####\n",
        "####---------------tbLogBPM-----------------####\n",
        "cursor_ods.execute(\n",
        "\n",
        "    '''\n",
        "        CREATE TABLE IF NOT EXISTS \"tbLogBPM\" (\n",
        "          \"idBPM\" INTEGER,\n",
        "          \"nomeBPM\" VARCHAR(50),\n",
        "          \"enderBPM\" VARCHAR(200),\n",
        "          \"dtCarga\" DATETIME\n",
        "        )\n",
        "        \n",
        "    '''\n",
        ")\n",
        "cursor_ods.execute('CREATE INDEX IF NOT EXISTS idx_tbLogBPM_idBPM ON tbLogBPM(idBPM)')\n",
        "####----------------------------------------####\n",
        "####--------------tbLogAreaBPM----------------####\n",
        "cursor_ods.execute(\n",
        "\n",
        "    '''\n",
        "        CREATE TABLE IF NOT EXISTS \"tbLogAreaBPM\" (\n",
        "          \"idBPM\" INTEGER,\n",
        "          \"areaBPM\" REAL(5,2),\n",
        "          \"dtCarga\" DATETIME\n",
        "        )\n",
        "        \n",
        "    '''\n",
        ")\n",
        "cursor_ods.execute('CREATE INDEX IF NOT EXISTS idx_tbLogAreaBPM_idBPM ON tbLogAreaBPM(idBPM)')\n",
        "####----------------------------------------####\n",
        "\n",
        "#Confirmar insert e encerrando a conexão\n",
        "conexao_ods.commit()\n",
        "conexao_ods.close()"
      ],
      "metadata": {
        "id": "7q7OKgWEDqmM"
      },
      "execution_count": null,
      "outputs": []
    },
    {
      "cell_type": "markdown",
      "source": [
        "### Criação das tabelas - DW"
      ],
      "metadata": {
        "id": "1qetFpj6G7_q"
      }
    },
    {
      "cell_type": "code",
      "source": [
        "#Conectar no DW\n",
        "conexao_dw = sql.connect(bd_dw)\n",
        "\n",
        "#Definir variável para manipulação\n",
        "cursor_dw = conexao_dw.cursor()\n",
        "\n",
        "#Criar tabelase índices, caso não existam:\n",
        "####---------------dMunicipio---------------####\n",
        "cursor_dw.execute(\n",
        "\n",
        "    '''\n",
        "        CREATE TABLE IF NOT EXISTS \"dMunicipio\" (\n",
        "          \"idMunic\" INTEGER,\n",
        "          \"codMunic\" INTEGER,\n",
        "          \"nomeMunic\" TEXT\n",
        "        )\n",
        "\n",
        "     '''\n",
        ")\n",
        "cursor_dw.execute('CREATE INDEX IF NOT EXISTS idx_dMunicipio_idMunic ON dMunicipio(idMunic)')\n",
        "####---------------------------------------####\n",
        "####------------------dDP------------------####\n",
        "cursor_dw.execute(\n",
        "\n",
        "    '''\n",
        "        CREATE TABLE IF NOT EXISTS \"dDP\" (\n",
        "          \"idDP\"  INTEGER PRIMARY KEY AUTOINCREMENT ,\n",
        "          \"nomeDP\" VARCHAR(200),\n",
        "          \"enderDP\" VARCHAR(200),\n",
        "          \"nomeResp\" VARCHAR(200)\n",
        "        )\n",
        "\n",
        "     '''\n",
        ")\n",
        "cursor_dw.execute('CREATE INDEX IF NOT EXISTS idx_dDP_idDP ON dDP(idDP)')\n",
        "####---------------------------------------####\n",
        "####------------------dBPM------------------####\n",
        "cursor_dw.execute(\n",
        "\n",
        "    '''\n",
        "        CREATE TABLE IF NOT EXISTS \"dBPM\" (\n",
        "          \"idBPM\"  INTEGER PRIMARY KEY AUTOINCREMENT ,\n",
        "          \"nomeBPM\" VARCHAR(50),\n",
        "          \"enderBPM\" VARCHAR(200),\n",
        "          \"areaBPM\" REAL(5,2)\n",
        "        )\n",
        "\n",
        "     '''\n",
        ")\n",
        "cursor_dw.execute('CREATE INDEX IF NOT EXISTS idx_dBPM_idBPM ON dBPM(idBPM)')\n",
        "####----------------------------------------####\n",
        "\n",
        "#Confirmar create e encerrar a conexão\n",
        "conexao_dw.commit()\n",
        "conexao_dw.close()"
      ],
      "metadata": {
        "id": "ae-j4RTaHGn5"
      },
      "execution_count": null,
      "outputs": []
    },
    {
      "cell_type": "markdown",
      "metadata": {
        "id": "3zhKTCuWNJtj"
      },
      "source": [
        "# Manipulação dos Dados - ODS"
      ]
    },
    {
      "cell_type": "markdown",
      "source": [
        "## Inserções"
      ],
      "metadata": {
        "id": "Nr1ObTAIxcBu"
      }
    },
    {
      "cell_type": "markdown",
      "metadata": {
        "id": "TyBMxNCbNJtj"
      },
      "source": [
        "### Inserir os registros ODS: Cadastro Municípios"
      ]
    },
    {
      "cell_type": "code",
      "execution_count": null,
      "metadata": {
        "id": "9M9kDZjENJtj"
      },
      "outputs": [],
      "source": [
        "#Conectar no ODS\n",
        "conexao_ods = sql.connect(bd_ods)\n",
        "\n",
        "#Definir variável para manipulação\n",
        "cursor_ods = conexao_ods.cursor()\n",
        "\n",
        "#Adicionar novos registros à tabela tbLogMunic\n",
        "ibge_dados_rj.to_sql('tbLogMunic', conexao_ods, if_exists='append')\n",
        "\n",
        "#Confirmar insert e encerrando a conexão\n",
        "conexao_ods.commit()\n",
        "conexao_ods.close()\n",
        "\n",
        "print(\"Carga ODS Cadastro de Municípios finalizada!\",len(ibge_dados_rj),\"Registros inseridos!\")"
      ]
    },
    {
      "cell_type": "markdown",
      "metadata": {
        "id": "vjE7mLX8NJtk"
      },
      "source": [
        "### Inserir os registros ODS: Cadastro DPs"
      ]
    },
    {
      "cell_type": "code",
      "execution_count": null,
      "metadata": {
        "id": "h-5vYTiyNJtk"
      },
      "outputs": [],
      "source": [
        "#Conectar no ODS\n",
        "conexao_ods = sql.connect(bd_ods)\n",
        "\n",
        "#Definir variável para manipulação\n",
        "cursor_ods = conexao_ods.cursor()\n",
        "\n",
        "#Inserir dados\n",
        "cursor_ods.executemany('''INSERT INTO tbLogDP(idDP,nomeDP,enderDP,dtCarga) VALUES(?,?,?,?)''',tb_log_dp.values.tolist())\n",
        "\n",
        "#Confirmar insert e encerrando a conexão\n",
        "conexao_ods.commit()\n",
        "conexao_ods.close()\n",
        "\n",
        "#Mensagem de conslusão\n",
        "print(\"Carga ODS Cadastro de DPs finalizada!\",len(tb_log_dp),\"Registros inseridos!\")\n"
      ]
    },
    {
      "cell_type": "markdown",
      "metadata": {
        "id": "PJIA16FuNJtl"
      },
      "source": [
        "### Inserir os registros ODS: Cadastro Responsáveis DPs"
      ]
    },
    {
      "cell_type": "code",
      "execution_count": null,
      "metadata": {
        "id": "BON5vsYDNJtm"
      },
      "outputs": [],
      "source": [
        "#Conectar no ODS\n",
        "conexao_ods = sql.connect(bd_ods)\n",
        "\n",
        "#Definir variável para manipulação\n",
        "cursor_ods = conexao_ods.cursor()\n",
        "\n",
        "#Inserir dados\n",
        "cursor_ods.executemany('''INSERT INTO tbLogRespDP(idDP,nomeResp,dtCarga) VALUES(?,?,?)''',tb_log_resp_dp.values.tolist())\n",
        "\n",
        "#Confirmar insert e encerrando a conexão\n",
        "conexao_ods.commit()\n",
        "conexao_ods.close()\n",
        "\n",
        "#Mensagem de conslusão\n",
        "print(\"Carga ODS Responsáveis de DPs finalizada!\",len(tb_log_resp_dp),\"Registros inseridos!\")"
      ]
    },
    {
      "cell_type": "markdown",
      "source": [
        "### Inserir os registros ODS: Cadastro BPM"
      ],
      "metadata": {
        "id": "VLGsXhFQ8DOz"
      }
    },
    {
      "cell_type": "code",
      "source": [
        "#Conectar no ODS\n",
        "conexao_ods = sql.connect(bd_ods)\n",
        "\n",
        "#Definir variável para manipulação\n",
        "cursor_ods = conexao_ods.cursor()\n",
        "\n",
        "#Inserir dados\n",
        "cursor_ods.executemany('''INSERT INTO tbLogBPM(idBPM,nomeBPM,enderBPM,dtCarga) VALUES(?,?,?,?)''',tb_log_bpm.values.tolist())\n",
        "\n",
        "#Confirmar insert e encerrando a conexão\n",
        "conexao_ods.commit()\n",
        "conexao_ods.close()\n",
        "\n",
        "#Mensagem de conslusão\n",
        "print(\"Carga ODS Cadastro dos BPM finalizados!\",len(tb_log_bpm),\"Registros inseridos!\")"
      ],
      "metadata": {
        "id": "aOh2jOc_8DkU"
      },
      "execution_count": null,
      "outputs": []
    },
    {
      "cell_type": "markdown",
      "source": [
        "### Inserir os registros ODS: Cadastro áreas BPM"
      ],
      "metadata": {
        "id": "3nlgh44-xqLO"
      }
    },
    {
      "cell_type": "code",
      "source": [
        "#Conectar no ODS\n",
        "conexao_ods = sql.connect(bd_ods)\n",
        "\n",
        "#Definir variável para manipulação\n",
        "cursor_ods = conexao_ods.cursor()\n",
        "\n",
        "#Inserir dados\n",
        "cursor_ods.executemany('''INSERT INTO tbLogAreaBPM(idBPM,areaBPM,dtCarga) VALUES(?,?,?)''',tb_log_area_bpm.values.tolist())\n",
        "\n",
        "#Confirmar insert e encerrando a conexão\n",
        "conexao_ods.commit()\n",
        "conexao_ods.close()\n",
        "\n",
        "#Mensagem de conslusão\n",
        "print(\"Carga ODS Cadastro das áreas BPM finalizada!\",len(tb_log_area_bpm),\"Registros inseridos!\")"
      ],
      "metadata": {
        "id": "trcZarsox0Dm"
      },
      "execution_count": null,
      "outputs": []
    },
    {
      "cell_type": "markdown",
      "source": [
        "## Validações"
      ],
      "metadata": {
        "id": "RqYbesqHxjh8"
      }
    },
    {
      "cell_type": "markdown",
      "metadata": {
        "id": "ubfPtNhhNJtk"
      },
      "source": [
        "### Validar os registros inseridos ODS - Cadastro DPs"
      ]
    },
    {
      "cell_type": "code",
      "execution_count": null,
      "metadata": {
        "id": "M2UimUULNJtl"
      },
      "outputs": [],
      "source": [
        "#Conectar no ODS\n",
        "conexao_ods = sql.connect(bd_ods)\n",
        "\n",
        "#Select de validação:\n",
        "select_ods = 'SELECT * FROM tbLogDP ORDER BY dtCarga DESC LIMIT '+ str(len(tb_log_dp))\n",
        "select_ods = pd.read_sql(select_ods,conexao_ods)\n",
        "\n",
        "#Encerrar a conexão\n",
        "conexao_ods.close()\n",
        "\n",
        "#Exibir select de validação\n",
        "select_ods"
      ]
    },
    {
      "cell_type": "markdown",
      "metadata": {
        "id": "ZdCvfTp8NJtn"
      },
      "source": [
        "### Validar os registros inseridos ODS - Cadastro Responsáveis DPs"
      ]
    },
    {
      "cell_type": "code",
      "execution_count": null,
      "metadata": {
        "scrolled": false,
        "id": "pT5xDXnjNJto"
      },
      "outputs": [],
      "source": [
        "#Conectar no ODS\n",
        "conexao_ods = sql.connect(bd_ods)\n",
        "\n",
        "#Select de validação:\n",
        "select_ods = 'SELECT * FROM tbLogRespDP  ORDER BY dtCarga DESC LIMIT ' + str(len(tb_log_resp_dp))\n",
        "select_ods = pd.read_sql(select_ods,conexao_ods)\n",
        "\n",
        "#Encerrar a conexão\n",
        "conexao_ods.close()\n",
        "\n",
        "#Exibir select de validação\n",
        "select_ods"
      ]
    },
    {
      "cell_type": "markdown",
      "source": [
        "### Validar os registros inseridos ODS - Cadastro BPM"
      ],
      "metadata": {
        "id": "XUUM-mg9CCcU"
      }
    },
    {
      "cell_type": "code",
      "source": [
        "#Conectar no ODS\n",
        "conexao_ods = sql.connect(bd_ods)\n",
        "\n",
        "#Select de validação:\n",
        "select_ods = 'SELECT * FROM tbLogBPM  ORDER BY dtCarga DESC LIMIT ' + str(len(tb_log_bpm))\n",
        "select_ods = pd.read_sql(select_ods,conexao_ods)\n",
        "\n",
        "#Encerrar a conexão\n",
        "conexao_ods.close()\n",
        "\n",
        "#Exibir select de validação\n",
        "select_ods"
      ],
      "metadata": {
        "id": "VOePpsm4C9KM"
      },
      "execution_count": null,
      "outputs": []
    },
    {
      "cell_type": "markdown",
      "source": [
        "### Validar os registros inseridos ODS - Cadastro áreas BPM\n",
        "\n"
      ],
      "metadata": {
        "id": "rg6kTQWDywXu"
      }
    },
    {
      "cell_type": "code",
      "source": [
        "#Conectar no ODS\n",
        "conexao_ods = sql.connect(bd_ods)\n",
        "\n",
        "#Select de validação:\n",
        "select_ods = 'SELECT * FROM tbLogBPM  ORDER BY dtCarga DESC LIMIT ' + str(len(tb_log_area_bpm))\n",
        "select_ods = pd.read_sql(select_ods,conexao_ods)\n",
        "\n",
        "#Encerrar a conexão\n",
        "conexao_ods.close()\n",
        "\n",
        "#Exibir select de validação\n",
        "select_ods"
      ],
      "metadata": {
        "id": "E-P7uSW1y1yW"
      },
      "execution_count": null,
      "outputs": []
    },
    {
      "cell_type": "markdown",
      "metadata": {
        "id": "98W1_VbfNJto"
      },
      "source": [
        "# Manipulação dos Dados - DW"
      ]
    },
    {
      "cell_type": "markdown",
      "metadata": {
        "id": "ziCazAH6NJto"
      },
      "source": [
        "### Inserir os registros: Cadastro de Municípios"
      ]
    },
    {
      "cell_type": "code",
      "execution_count": null,
      "metadata": {
        "id": "HesBJBxINJtp"
      },
      "outputs": [],
      "source": [
        "#Conectar no DW\n",
        "conexao_dw = sql.connect(bd_dw)\n",
        "\n",
        "#Definir variável para manipulação\n",
        "cursor_dw = conexao_dw.cursor()\n",
        "\n",
        "#Criar tabela, caso não exista:\n",
        "cursor_dw.execute(\n",
        "\n",
        "    '''\n",
        "        CREATE TABLE IF NOT EXISTS \"dMunicipio\" (\n",
        "          \"idMunic\" INTEGER,\n",
        "          \"codMunic\" INTEGER,\n",
        "          \"nomeMunic\" TEXT\n",
        "        )\n",
        "\n",
        "     '''\n",
        ")\n",
        "\n",
        "#Criar Data Frame para popular o DW\n",
        "ibge_dados_rj_dw = ibge_dados_rj[['codMunic','nomeMunic']]\n",
        "\n",
        "#Criar e/ou popular a dimensão dMunicipio com o DF ibge_dados_rj_dw\n",
        "ibge_dados_rj_dw.to_sql('dMunicipio', conexao_dw, if_exists='replace')\n",
        "\n",
        "#Confirmar insert e encerrando a conexão\n",
        "conexao_dw.commit()\n",
        "conexao_dw.close()\n",
        "\n",
        "#Mensagem de conslusão\n",
        "print(\"Carga ODS Responsáveis de DPs finalizada!\",len(ibge_dados_rj_dw),\"Registros inseridos!\")"
      ]
    },
    {
      "cell_type": "markdown",
      "metadata": {
        "id": "IWv2fngHNJtp"
      },
      "source": [
        "### Inserir os registros: DPs e responsáveis"
      ]
    },
    {
      "cell_type": "code",
      "execution_count": null,
      "metadata": {
        "id": "iK4r4lgHNJtp"
      },
      "outputs": [],
      "source": [
        "#Conectar no DW\n",
        "conexao_dw = sql.connect(bd_dw)\n",
        "\n",
        "#Definir variável para manipulação\n",
        "cursor_dw = conexao_dw.cursor()\n",
        "\n",
        "#Query para dimensão dDP:\n",
        "\n",
        "dDP ='''\n",
        "SELECT \n",
        "    [Identificador do Departamento],\n",
        "    [Nome do Departamento],\n",
        "    [Endereço do Departamento],\n",
        "    [Nome do Responsável]\n",
        "FROM\n",
        "    (\n",
        "        SELECT \n",
        "            DP.idDP [Identificador do Departamento],\n",
        "            DP.nomeDP [Nome do Departamento],\n",
        "            DP.enderDP [Endereço do Departamento],\n",
        "            RESP.nomeResp [Nome do Responsável],\n",
        "            MAX(DP.dtCarga) [Horário da última carga dos dados]\n",
        "        FROM tbLogDP DP\n",
        "            INNER JOIN tbLogRespDP RESP on RESP.idDP = DP.idDP\n",
        "        WHERE DP.dtCarga = (SELECT MAX(T.dtCarga) FROM tbLogDP T)\n",
        "        GROUP BY\n",
        "            DP.idDP,\n",
        "            DP.nomeDP,\n",
        "            DP.enderDP,\n",
        "            RESP.nomeResp\n",
        "    ) dDP\n",
        "'''\n",
        "#Conectar no ODS\n",
        "conexao_ods = sql.connect(bd_ods)\n",
        "\n",
        "#Preencher o Data Frame da dimensão dDP\n",
        "dDP = pd.read_sql(dDP,conexao_ods)\n",
        "\n",
        "#Confirmar a leitura e encerrando a conexão ODS\n",
        "conexao_ods.commit()\n",
        "conexao_ods.close()\n",
        "\n",
        "#Limpar a dimensão para inserir os novos registros:\n",
        "cursor_dw.execute(''' DELETE FROM dDP''')\n",
        "cursor_dw.execute('UPDATE sqlite_sequence SET seq=0 WHERE name=\"dDP\"')\n",
        "\n",
        "#Inserir os registros\n",
        "cursor_dw.executemany('''INSERT INTO dDP(idDP,nomeDP,enderDP,nomeResp) VALUES(?,?,?,?)''',dDP.values.tolist())\n",
        "\n",
        "#Confirmar o delete, insert e encerrando a conexão DW\n",
        "conexao_dw.commit()\n",
        "conexao_dw.close()"
      ]
    },
    {
      "cell_type": "markdown",
      "source": [
        "### Inserir os registros: BPM e áreas"
      ],
      "metadata": {
        "id": "zNawOlAw1leF"
      }
    },
    {
      "cell_type": "code",
      "source": [
        "#Conectar no DW\n",
        "conexao_dw = sql.connect(bd_dw)\n",
        "\n",
        "#Definir variável para manipulação\n",
        "cursor_dw = conexao_dw.cursor()\n",
        "\n",
        "#Query para dimensão dDP:\n",
        "\n",
        "dBPM ='''\n",
        "SELECT \n",
        "    [Identificador do BPM],\n",
        "    [Nome do BPM],\n",
        "    [Endereço do BPM],\n",
        "    [Área do BPM]\n",
        "FROM\n",
        "    (\n",
        "        SELECT \n",
        "            BPM.idBPM [Identificador do BPM],\n",
        "            BPM.nomeBPM [Nome do BPM],\n",
        "            BPM.enderBPM [Endereço do BPM],\n",
        "            AREA.areaBPM [Área do BPM],\n",
        "            MAX(BPM.dtCarga) [Horário da última carga dos dados]\n",
        "        FROM tbLogBPM BPM\n",
        "            INNER JOIN tbLogAreaBPM AREA on AREA.idBPM = BPM.idBPM\n",
        "        WHERE BPM.dtCarga = (SELECT MAX(T.dtCarga) FROM tbLogBPM T)\n",
        "        GROUP BY\n",
        "            BPM.idBPM,\n",
        "            BPM.nomeBPM,\n",
        "            BPM.enderBPM,\n",
        "            AREA.areaBPM\n",
        "    ) dBPM\n",
        "'''\n",
        "\n",
        "#Conectar no ODS\n",
        "conexao_ods = sql.connect(bd_ods)\n",
        "\n",
        "#Preencher o Data Frame da dimensão dDP\n",
        "dBPM = pd.read_sql(dBPM,conexao_ods)\n",
        "\n",
        "#Confirmar a leitura e encerrando a conexão ODS\n",
        "conexao_ods.commit()\n",
        "conexao_ods.close()\n",
        "\n",
        "#Limpar a dimensão para inserir os novos registros:\n",
        "cursor_dw.execute(''' DELETE FROM dBPM''')\n",
        "cursor_dw.execute('UPDATE sqlite_sequence SET seq=0 WHERE name=\"dBPM\"')\n",
        "\n",
        "#Inserir os registros\n",
        "cursor_dw.executemany('''INSERT INTO dBPM(idBPM,nomeBPM,enderBPM,areaBPM) VALUES(?,?,?,?)''',dBPM.values.tolist())\n",
        "\n",
        "#Confirmar o delete, insert e encerrando a conexão DW\n",
        "conexao_dw.commit()\n",
        "conexao_dw.close()"
      ],
      "metadata": {
        "id": "1Y3vFe6-4KiT"
      },
      "execution_count": null,
      "outputs": []
    },
    {
      "cell_type": "markdown",
      "metadata": {
        "id": "b8PremxgNJtp"
      },
      "source": [
        "### Validar os registros inseridos DW - Dimensão Municípios"
      ]
    },
    {
      "cell_type": "code",
      "execution_count": null,
      "metadata": {
        "scrolled": true,
        "id": "skxXvs0ZNJtp"
      },
      "outputs": [],
      "source": [
        "#Conectar no DW\n",
        "conexao_dw = sql.connect(bd_dw)\n",
        "\n",
        "#Select de validação:\n",
        "select_dw = pd.read_sql('SELECT * FROM dMunicipio',conexao_dw)\n",
        "\n",
        "#Encerrando a conexão\n",
        "conexao_dw.close()\n",
        "\n",
        "#Exibindo select de validação\n",
        "select_dw"
      ]
    },
    {
      "cell_type": "markdown",
      "metadata": {
        "id": "oqp44melNJtq"
      },
      "source": [
        "### Validar os registros inseridos DW - Dimensão DPs"
      ]
    },
    {
      "cell_type": "code",
      "execution_count": null,
      "metadata": {
        "id": "GVZ-E2LpNJtq"
      },
      "outputs": [],
      "source": [
        "#Conectar no DW\n",
        "conexao_dw = sql.connect(bd_dw)\n",
        "\n",
        "#Select de validação:\n",
        "select_dw = pd.read_sql('''SELECT \n",
        "                                idDP [Identificador do Departamento],\n",
        "                                nomeDP [Nome do Departamento],\n",
        "                                enderDP [Endereço do Departamento],\n",
        "                                nomeResp [Nome do Responsável] \n",
        "                           FROM dDP'''\n",
        "            ,conexao_dw)\n",
        "\n",
        "#Encerrar a conexão\n",
        "conexao_dw.close()\n",
        "\n",
        "#Exibir select de validação\n",
        "select_dw"
      ]
    },
    {
      "cell_type": "markdown",
      "source": [
        "### Validar os registros inseridos DW - Dimensão BPM"
      ],
      "metadata": {
        "id": "8zLm4hbB6650"
      }
    },
    {
      "cell_type": "code",
      "source": [
        "#Conectar no DW\n",
        "conexao_dw = sql.connect(bd_dw)\n",
        "\n",
        "#Select de validação:\n",
        "select_dw = pd.read_sql('''SELECT \n",
        "                                idBPM [Identificador do BPM],\n",
        "                                nomeBPM [Nome do BPM],\n",
        "                                enderBPM [Endereço do BPM],\n",
        "                                areaBPM [Área do BPM]\n",
        "                           FROM dBPM'''\n",
        "            ,conexao_dw)\n",
        "\n",
        "#Encerrar a conexão\n",
        "conexao_dw.close()\n",
        "\n",
        "#Exibir select de validação\n",
        "select_dw"
      ],
      "metadata": {
        "id": "CADItcgy7Cyt"
      },
      "execution_count": null,
      "outputs": []
    }
  ],
  "metadata": {
    "kernelspec": {
      "display_name": "Python 3",
      "language": "python",
      "name": "python3"
    },
    "language_info": {
      "codemirror_mode": {
        "name": "ipython",
        "version": 3
      },
      "file_extension": ".py",
      "mimetype": "text/x-python",
      "name": "python",
      "nbconvert_exporter": "python",
      "pygments_lexer": "ipython3",
      "version": "3.7.6"
    },
    "colab": {
      "name": "Analise_MunicipiosxDelegacias_RJ.ipynb",
      "provenance": []
    }
  },
  "nbformat": 4,
  "nbformat_minor": 0
}