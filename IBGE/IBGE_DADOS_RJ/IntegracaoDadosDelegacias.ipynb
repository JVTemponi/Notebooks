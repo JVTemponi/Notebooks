{
 "cells": [
  {
   "cell_type": "code",
   "execution_count": 57,
   "metadata": {},
   "outputs": [],
   "source": [
    "# imports necessários:\n",
    "import pandas as pd\n",
    "from pathlib import PosixPath \n",
    "from datetime import datetime\n",
    "import sqlite3 as sql\n",
    "\n",
    "#Endereço dos arquivos CSV:\n",
    "local_arquivos = PosixPath('/home/juvito/Projeto-pyton/Dados/')\n"
   ]
  },
  {
   "cell_type": "markdown",
   "metadata": {},
   "source": [
    "## Coleta de dados: Cadastro das Delegacias de Polícia RJ\n"
   ]
  },
  {
   "cell_type": "code",
   "execution_count": 58,
   "metadata": {},
   "outputs": [],
   "source": [
    "#Criar Data Frame com os dados das DPs\n",
    "tb_log_dp = pd.DataFrame(pd.read_csv(local_arquivos / \"DP.csv\"))\n",
    "\n",
    "#Ajustar a nomenclatura das colunas do Data Frame:\n",
    "tb_log_dp = tb_log_dp.rename(columns = {'COD_DP': 'idDP', 'NM_DP':'nomeDP', 'Endereço':'enderDP'})\n",
    "\n",
    "#Adicionando coluna de Data e Hora da carga no Data Frame \n",
    "tb_log_dp['dtCarga'] = datetime.today().strftime('%d/%m/%Y %H:%M')\n"
   ]
  },
  {
   "cell_type": "markdown",
   "metadata": {},
   "source": [
    "## Coleta de dados: Cadastro dos responsáveis pelas Delegacias de Polícia RJ\n"
   ]
  },
  {
   "cell_type": "code",
   "execution_count": 59,
   "metadata": {},
   "outputs": [],
   "source": [
    "#Criar Data Frame com os dados dos responsáveis pelas DPs\n",
    "tb_log_resp_dp = pd.DataFrame(pd.read_csv(local_arquivos / \"ResponsavelDP.csv\"))\n",
    "                                     \n",
    "#Ajustar a nomenclatura das colunas do Data Frame:\n",
    "tb_log_resp_dp = tb_log_resp_dp.rename(columns = {'COD_DP': 'idDP', 'Responsavel':'nomeResp'})\n",
    "\n",
    "#Adicionando coluna de Data e Hora da carga no Data Frame \n",
    "tb_log_resp_dp['dtCarga'] = datetime.today().strftime('%d/%m/%Y %H:%M')\n"
   ]
  },
  {
   "cell_type": "markdown",
   "metadata": {},
   "source": [
    "## Configuração Banco de Dados: ODS e DW - SQLite"
   ]
  },
  {
   "cell_type": "code",
   "execution_count": 60,
   "metadata": {},
   "outputs": [
    {
     "name": "stdout",
     "output_type": "stream",
     "text": [
      "Bancos de dados já existem!\n"
     ]
    }
   ],
   "source": [
    "##Manipular sistema de arquivos:\n",
    "endereco = PosixPath('/home/juvito/Projeto-pyton')\n",
    "\n",
    "bd_ods = endereco / \"ibgeODS.db\"\n",
    "bd_dw = endereco / \"ibgeDW.db\"\n",
    "\n",
    "if endereco.exists():\n",
    "    if (bd_ods.exists() and bd_dw.exists()):\n",
    "        print('Bancos de dados já existem!')\n",
    "    else:\n",
    "        bd_ods.touch()\n",
    "        bd_dw.touch()\n",
    "        print('Bancos de dados criados!')\n",
    "else:\n",
    "    print('Endereço não existe, favor verificar!')"
   ]
  },
  {
   "cell_type": "markdown",
   "metadata": {},
   "source": [
    "## Inserir os registros: Banco de dados ODS - Cadastro DPs"
   ]
  },
  {
   "cell_type": "code",
   "execution_count": 61,
   "metadata": {},
   "outputs": [
    {
     "ename": "OperationalError",
     "evalue": "database is locked",
     "output_type": "error",
     "traceback": [
      "\u001b[0;31m---------------------------------------------------------------------------\u001b[0m",
      "\u001b[0;31mOperationalError\u001b[0m                          Traceback (most recent call last)",
      "\u001b[0;32m<ipython-input-61-6aec54ed7d81>\u001b[0m in \u001b[0;36m<module>\u001b[0;34m\u001b[0m\n\u001b[1;32m      8\u001b[0m \u001b[0;34m\u001b[0m\u001b[0m\n\u001b[1;32m      9\u001b[0m \u001b[0;31m#Inserindo dados\u001b[0m\u001b[0;34m\u001b[0m\u001b[0;34m\u001b[0m\u001b[0;34m\u001b[0m\u001b[0m\n\u001b[0;32m---> 10\u001b[0;31m \u001b[0msql_ods\u001b[0m\u001b[0;34m.\u001b[0m\u001b[0mexecutemany\u001b[0m\u001b[0;34m(\u001b[0m\u001b[0;34m'''INSERT INTO tbLogDP(idDP,nomeDP,enderDP,dtCarga) VALUES(?,?,?,?)'''\u001b[0m\u001b[0;34m,\u001b[0m\u001b[0mtb_log_dp\u001b[0m\u001b[0;34m.\u001b[0m\u001b[0mvalues\u001b[0m\u001b[0;34m.\u001b[0m\u001b[0mtolist\u001b[0m\u001b[0;34m(\u001b[0m\u001b[0;34m)\u001b[0m\u001b[0;34m)\u001b[0m\u001b[0;34m\u001b[0m\u001b[0;34m\u001b[0m\u001b[0m\n\u001b[0m\u001b[1;32m     11\u001b[0m \u001b[0;34m\u001b[0m\u001b[0m\n\u001b[1;32m     12\u001b[0m \u001b[0;31m#Confirmando insert\u001b[0m\u001b[0;34m\u001b[0m\u001b[0;34m\u001b[0m\u001b[0;34m\u001b[0m\u001b[0m\n",
      "\u001b[0;31mOperationalError\u001b[0m: database is locked"
     ]
    }
   ],
   "source": [
    "conexao_ods.close()\n",
    "\n",
    "#Conectar no ODS\n",
    "conexao_ods = sql.connect(bd_ods)\n",
    "\n",
    "#Definindo variável para manipulação\n",
    "sql_ods = conexao_ods.cursor()\n",
    "\n",
    "#Inserindo dados\n",
    "sql_ods.executemany('''INSERT INTO tbLogDP(idDP,nomeDP,enderDP,dtCarga) VALUES(?,?,?,?)''',tb_log_dp.values.tolist())\n",
    "\n",
    "#Confirmando insert\n",
    "conexao_ods.commit()\n",
    "\n",
    "#Mensagem de conslusão\n",
    "print(\"Carga ODS Cadastro de DPs finalizada!\",len(tb_log_dp),\"Registros inseridos!\")\n"
   ]
  },
  {
   "cell_type": "markdown",
   "metadata": {},
   "source": [
    "### Validar os registros inseridos ODS - Cadastro DPs"
   ]
  },
  {
   "cell_type": "code",
   "execution_count": null,
   "metadata": {},
   "outputs": [],
   "source": [
    "pd.read_sql('SELECT * FROM tbLogDP',conexao_ods)"
   ]
  },
  {
   "cell_type": "markdown",
   "metadata": {},
   "source": [
    "## Inserindo os registros: Banco de dados ODS - Cadastro Responsáveis DPs"
   ]
  },
  {
   "cell_type": "code",
   "execution_count": null,
   "metadata": {},
   "outputs": [],
   "source": [
    "conexao_ods.close()\n",
    "\n",
    "#Conectar no ODS\n",
    "conexao_ods = sql.connect(bd_ods)\n",
    "\n",
    "#Definindo variável para manipulação\n",
    "sql_ods = conexao_ods.cursor()\n",
    "\n",
    "#Inserindo dados\n",
    "sql_ods.executemany('''INSERT INTO tbLogRespDP(nomeResp,dtCarga) VALUES(?,?)''',tb_log_resp_dp.values.tolist())\n",
    "\n",
    "#Confirmando insert\n",
    "conexao_ods.commit()\n",
    "\n",
    "#Mensagem de conslusão\n",
    "print(\"Carga ODS Responsáveis de DPs finalizada!\",len(tb_log_resp_dp),\"Registros inseridos!\")"
   ]
  },
  {
   "cell_type": "code",
   "execution_count": null,
   "metadata": {},
   "outputs": [],
   "source": []
  }
 ],
 "metadata": {
  "kernelspec": {
   "display_name": "Python 3",
   "language": "python",
   "name": "python3"
  },
  "language_info": {
   "codemirror_mode": {
    "name": "ipython",
    "version": 3
   },
   "file_extension": ".py",
   "mimetype": "text/x-python",
   "name": "python",
   "nbconvert_exporter": "python",
   "pygments_lexer": "ipython3",
   "version": "3.7.6"
  }
 },
 "nbformat": 4,
 "nbformat_minor": 4
}
