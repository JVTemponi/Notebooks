{
 "cells": [
  {
   "cell_type": "code",
   "execution_count": 1,
   "metadata": {},
   "outputs": [],
   "source": [
    "# imports necessários:\n",
    "import pandas as pd\n",
    "from pathlib import PurePath, PurePosixPath, PosixPath \n",
    "from datetime import datetime\n",
    "import sqlite3 as sql\n"
   ]
  },
  {
   "cell_type": "markdown",
   "metadata": {},
   "source": [
    "## Coleta de dados site IBGE"
   ]
  },
  {
   "cell_type": "code",
   "execution_count": 2,
   "metadata": {},
   "outputs": [],
   "source": [
    "#Coletando dados dos municípios de Minas Gerais\n",
    "url = 'https://www.ibge.gov.br/explica/codigos-dos-municipios.php#MG'\n",
    "\n",
    "ibge_dados_mg = pd.DataFrame(pd.read_html(url, match='Municípios de Minas Gerais')[0])\n",
    "\n",
    "#Ajustando a nomenclatura das colunas do Data Frame:\n",
    "ibge_dados_mg = ibge_dados_mg.rename(columns = {'Municípios de Minas Gerais': 'nomeMunic', 'Códigos': 'codMunic'})\n",
    "\n",
    "#Adicionado coluna ao Data Frame:\n",
    "ibge_dados_mg['dtCarga'] = datetime.today().strftime('%d/%m/%Y %H:%M')\n",
    "\n",
    "#Ajustando index do Data Frame, nome enumeração do index\n",
    "ibge_dados_mg.index.name = 'idMunic'\n",
    "ibge_dados_mg.index = ibge_dados_mg.index + 1\n"
   ]
  },
  {
   "cell_type": "markdown",
   "metadata": {},
   "source": [
    "## Configuração Banco de Dados: ODS e DW - SQLite"
   ]
  },
  {
   "cell_type": "code",
   "execution_count": 3,
   "metadata": {},
   "outputs": [
    {
     "name": "stdout",
     "output_type": "stream",
     "text": [
      "Bancos de dados já existem!\n"
     ]
    }
   ],
   "source": [
    "##Manipulando sistema de arquivos:\n",
    "endereco = PosixPath('/home/juvito/Projeto-pyton')\n",
    "\n",
    "bd_ods = endereco / \"ibgeODS.db\"\n",
    "bd_dw = endereco / \"ibgeDW.db\"\n",
    "\n",
    "if endereco.exists():\n",
    "    if (bd_ods.exists() and bd_dw.exists()):\n",
    "        print('Bancos de dados já existem!')\n",
    "    else:\n",
    "        bd_ods.touch()\n",
    "        bd_dw.touch()\n",
    "        print('Bancos de dados criados!')\n",
    "else:\n",
    "    print('Endereço não existe, favor verificar!')\n",
    "    "
   ]
  },
  {
   "cell_type": "markdown",
   "metadata": {},
   "source": [
    "## Manipulando Banco de Dados SQLite"
   ]
  },
  {
   "cell_type": "code",
   "execution_count": 4,
   "metadata": {},
   "outputs": [
    {
     "name": "stdout",
     "output_type": "stream",
     "text": [
      "Carga ODS concluída\n"
     ]
    }
   ],
   "source": [
    "#Conectar no ODS\n",
    "conexao_ods = sql.connect(bd_ods)\n",
    "\n",
    "#Criar e/ou popular tabela tbLogMunic com o DF ibge_dados_mg\n",
    "ibge_dados_mg.to_sql('tbLogMunic', conexao_ods, if_exists='append')\n",
    "\n",
    "conexao_ods.commit()\n",
    "conexao_ods.close()\n",
    "\n",
    "print('Carga ODS concluída')"
   ]
  },
  {
   "cell_type": "code",
   "execution_count": 5,
   "metadata": {},
   "outputs": [
    {
     "name": "stdout",
     "output_type": "stream",
     "text": [
      "Carga DW concluída\n"
     ]
    }
   ],
   "source": [
    "#Conectar no DW\n",
    "conexao_dw = sql.connect(bd_dw)\n",
    "\n",
    "#Criar Data Frame para popular o DW\n",
    "ibge_dados_mg_dw = ibge_dados_mg[['codMunic','nomeMunic']]\n",
    "\n",
    "#Criar e/ou popular a dimensão dMunicipio com o DF ibge_dados_mg_dw\n",
    "ibge_dados_mg_dw.to_sql('dMunicipio', conexao_dw, if_exists='replace')\n",
    "\n",
    "conexao_dw.commit()\n",
    "conexao_dw.close()\n",
    "\n",
    "print('Carga DW concluída')"
   ]
  }
 ],
 "metadata": {
  "kernelspec": {
   "display_name": "Python 3",
   "language": "python",
   "name": "python3"
  },
  "language_info": {
   "codemirror_mode": {
    "name": "ipython",
    "version": 3
   },
   "file_extension": ".py",
   "mimetype": "text/x-python",
   "name": "python",
   "nbconvert_exporter": "python",
   "pygments_lexer": "ipython3",
   "version": "3.7.6"
  }
 },
 "nbformat": 4,
 "nbformat_minor": 4
}
