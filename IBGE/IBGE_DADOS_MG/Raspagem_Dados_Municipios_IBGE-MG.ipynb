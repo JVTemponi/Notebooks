{
  "cells": [
    {
      "cell_type": "code",
      "execution_count": null,
      "metadata": {
        "id": "uEc2W0K7WHNN"
      },
      "outputs": [],
      "source": [
        "#Link para Colaboratory\n",
        "#https://colab.research.google.com/drive/1wZxhtAX_EXF5O4_I3vXTSG0BaZHlbeTG?usp=sharing\n",
        "\n",
        "# imports necessários:\n",
        "import pandas as pd\n",
        "from pathlib import PurePath, PurePosixPath, PosixPath \n",
        "from datetime import datetime\n",
        "import sqlite3 as sql\n"
      ]
    },
    {
      "cell_type": "markdown",
      "metadata": {
        "id": "x9nnDRLZWHNT"
      },
      "source": [
        "## Coleta de dados: site IBGE"
      ]
    },
    {
      "cell_type": "code",
      "execution_count": null,
      "metadata": {
        "id": "zvyL6CewWHNW"
      },
      "outputs": [],
      "source": [
        "#Coletar os dados dos municípios de Minas Gerais\n",
        "url = 'https://www.ibge.gov.br/explica/codigos-dos-municipios.php#MG'\n",
        "\n",
        "#Inserir os dados no Data Frame ibge_dados_mg\n",
        "ibge_dados_mg = pd.DataFrame(pd.read_html(url, match='Municípios de Minas Gerais')[0])\n",
        "\n",
        "#Ajustar a nomenclatura das colunas do Data Frame:\n",
        "ibge_dados_mg = ibge_dados_mg.rename(columns = {'Municípios de Minas Gerais': 'nomeMunic', 'Códigos': 'codMunic'})\n",
        "\n",
        "#Adicionar coluna ao Data Frame:\n",
        "ibge_dados_mg['dtCarga'] = datetime.today().strftime('%d/%m/%Y %H:%M')\n",
        "\n",
        "#Ajustar index do Data Frame\n",
        "ibge_dados_mg.index.name = 'idMunic'\n",
        "ibge_dados_mg.index = ibge_dados_mg.index + 1\n"
      ]
    },
    {
      "cell_type": "markdown",
      "metadata": {
        "id": "70wjEgP0WHNY"
      },
      "source": [
        "## Configuração Banco de Dados: ODS e DW - SQLite"
      ]
    },
    {
      "cell_type": "code",
      "execution_count": null,
      "metadata": {
        "id": "x61EAfLKWHNZ",
        "outputId": "636336ea-3ec7-4d16-9982-a9878c0c7a29",
        "colab": {
          "base_uri": "https://localhost:8080/"
        }
      },
      "outputs": [
        {
          "output_type": "stream",
          "name": "stdout",
          "text": [
            "Bancos de dados criados!\n"
          ]
        }
      ],
      "source": [
        "##Indicar local dos arquivos:\n",
        "endereco = PosixPath('/')\n",
        "\n",
        "#Indicar endereço das Bases de dados\n",
        "bd_ods = endereco / \"ibgeMgODS.db\"\n",
        "bd_dw = endereco / \"ibgeMgDW.db\"\n",
        "\n",
        "#Verificar a existência das bases de dados\n",
        "if endereco.exists():\n",
        "    if (bd_ods.exists() and bd_dw.exists()):\n",
        "        print('Bancos de dados já existem!')\n",
        "    else:\n",
        "        bd_ods.touch()\n",
        "        bd_dw.touch()\n",
        "        print('Bancos de dados criados!')\n",
        "else:\n",
        "    print('Endereço não existe, favor verificar!')\n",
        "    "
      ]
    },
    {
      "cell_type": "markdown",
      "metadata": {
        "id": "OQgNqIM5WHNc"
      },
      "source": [
        "## Inserir informações - ODS"
      ]
    },
    {
      "cell_type": "code",
      "execution_count": null,
      "metadata": {
        "id": "4Bah1XOsWHNe",
        "outputId": "7c690ec1-925b-48a6-de18-586599fb329f",
        "colab": {
          "base_uri": "https://localhost:8080/"
        }
      },
      "outputs": [
        {
          "output_type": "stream",
          "name": "stdout",
          "text": [
            "Carga ODS concluída\n"
          ]
        }
      ],
      "source": [
        "#Conectar no ODS\n",
        "conexao_ods = sql.connect(bd_ods)\n",
        "\n",
        "#Criar e/ou popular tabela tbLogMunic com o DF ibge_dados_mg\n",
        "ibge_dados_mg.to_sql('tbLogMunic', conexao_ods, if_exists='append')\n",
        "\n",
        "conexao_ods.commit()\n",
        "conexao_ods.close()\n",
        "\n",
        "print('Carga ODS concluída')"
      ]
    },
    {
      "cell_type": "markdown",
      "source": [
        "## Inserir informações - DW"
      ],
      "metadata": {
        "id": "nEjRpqQ6Xs1Q"
      }
    },
    {
      "cell_type": "code",
      "execution_count": null,
      "metadata": {
        "id": "SbbMx4JUWHNf",
        "outputId": "12e855b1-dfcc-4399-b3c7-7126e5323c7c",
        "colab": {
          "base_uri": "https://localhost:8080/"
        }
      },
      "outputs": [
        {
          "output_type": "stream",
          "name": "stdout",
          "text": [
            "Carga DW concluída\n"
          ]
        }
      ],
      "source": [
        "#Conectar no DW\n",
        "conexao_dw = sql.connect(bd_dw)\n",
        "\n",
        "#Criar Data Frame para popular o DW\n",
        "ibge_dados_mg_dw = ibge_dados_mg[['codMunic','nomeMunic']]\n",
        "\n",
        "#Limpar dados anteriores e inserir novas informações da dimensão dMunicipio com o Data Frame ibge_dados_mg_dw\n",
        "ibge_dados_mg_dw.to_sql('dMunicipio', conexao_dw, if_exists='replace')\n",
        "\n",
        "#Confirmar ações e encerrar conexão\n",
        "conexao_dw.commit()\n",
        "conexao_dw.close()\n",
        "\n",
        "print('Carga DW concluída')"
      ]
    },
    {
      "cell_type": "markdown",
      "source": [
        "## Visualizar informnações DW\n"
      ],
      "metadata": {
        "id": "6ZPt9Ix2YGFA"
      }
    },
    {
      "cell_type": "code",
      "source": [
        "from pickle import NONE\n",
        "#Conectar no DW\n",
        "conexao_dw = sql.connect(bd_dw)\n",
        "\n",
        "#Consulta a ser retornada\n",
        "consulta = '''\n",
        "    SELECT\n",
        "        nomeMunic [Nome do Município]\n",
        "    FROM dMunicipio\n",
        "'''\n",
        "exibir = pd.read_sql(consulta,conexao_dw)\n",
        "\n",
        "#Confirmar ações e encerrar conexão\n",
        "conexao_dw.commit()\n",
        "conexao_dw.close()\n",
        "\n",
        "#Exibir informações do DW\n",
        "exibir.index.name = ''\n",
        "exibir.index = exibir.index + 1\n",
        "exibir\n"
      ],
      "metadata": {
        "id": "89l8_gicYKQh",
        "outputId": "815b6dfd-3bab-4242-c477-1ed1aaa7bc8f",
        "colab": {
          "base_uri": "https://localhost:8080/",
          "height": 438
        }
      },
      "execution_count": null,
      "outputs": [
        {
          "output_type": "execute_result",
          "data": {
            "text/plain": [
              "          Nome do Município\n",
              "                           \n",
              "1       Abadia dos Dourados\n",
              "2                    Abaeté\n",
              "3                Abre Campo\n",
              "4                   Acaiaca\n",
              "5                   Açucena\n",
              "..                      ...\n",
              "849            Virginópolis\n",
              "850             Virgolândia\n",
              "851  Visconde do Rio Branco\n",
              "852            Volta Grande\n",
              "853          Wenceslau Braz\n",
              "\n",
              "[853 rows x 1 columns]"
            ],
            "text/html": [
              "\n",
              "  <div id=\"df-74c14572-838b-43c1-b862-b7785728c425\">\n",
              "    <div class=\"colab-df-container\">\n",
              "      <div>\n",
              "<style scoped>\n",
              "    .dataframe tbody tr th:only-of-type {\n",
              "        vertical-align: middle;\n",
              "    }\n",
              "\n",
              "    .dataframe tbody tr th {\n",
              "        vertical-align: top;\n",
              "    }\n",
              "\n",
              "    .dataframe thead th {\n",
              "        text-align: right;\n",
              "    }\n",
              "</style>\n",
              "<table border=\"1\" class=\"dataframe\">\n",
              "  <thead>\n",
              "    <tr style=\"text-align: right;\">\n",
              "      <th></th>\n",
              "      <th>Nome do Município</th>\n",
              "    </tr>\n",
              "    <tr>\n",
              "      <th></th>\n",
              "      <th></th>\n",
              "    </tr>\n",
              "  </thead>\n",
              "  <tbody>\n",
              "    <tr>\n",
              "      <th>1</th>\n",
              "      <td>Abadia dos Dourados</td>\n",
              "    </tr>\n",
              "    <tr>\n",
              "      <th>2</th>\n",
              "      <td>Abaeté</td>\n",
              "    </tr>\n",
              "    <tr>\n",
              "      <th>3</th>\n",
              "      <td>Abre Campo</td>\n",
              "    </tr>\n",
              "    <tr>\n",
              "      <th>4</th>\n",
              "      <td>Acaiaca</td>\n",
              "    </tr>\n",
              "    <tr>\n",
              "      <th>5</th>\n",
              "      <td>Açucena</td>\n",
              "    </tr>\n",
              "    <tr>\n",
              "      <th>...</th>\n",
              "      <td>...</td>\n",
              "    </tr>\n",
              "    <tr>\n",
              "      <th>849</th>\n",
              "      <td>Virginópolis</td>\n",
              "    </tr>\n",
              "    <tr>\n",
              "      <th>850</th>\n",
              "      <td>Virgolândia</td>\n",
              "    </tr>\n",
              "    <tr>\n",
              "      <th>851</th>\n",
              "      <td>Visconde do Rio Branco</td>\n",
              "    </tr>\n",
              "    <tr>\n",
              "      <th>852</th>\n",
              "      <td>Volta Grande</td>\n",
              "    </tr>\n",
              "    <tr>\n",
              "      <th>853</th>\n",
              "      <td>Wenceslau Braz</td>\n",
              "    </tr>\n",
              "  </tbody>\n",
              "</table>\n",
              "<p>853 rows × 1 columns</p>\n",
              "</div>\n",
              "      <button class=\"colab-df-convert\" onclick=\"convertToInteractive('df-74c14572-838b-43c1-b862-b7785728c425')\"\n",
              "              title=\"Convert this dataframe to an interactive table.\"\n",
              "              style=\"display:none;\">\n",
              "        \n",
              "  <svg xmlns=\"http://www.w3.org/2000/svg\" height=\"24px\"viewBox=\"0 0 24 24\"\n",
              "       width=\"24px\">\n",
              "    <path d=\"M0 0h24v24H0V0z\" fill=\"none\"/>\n",
              "    <path d=\"M18.56 5.44l.94 2.06.94-2.06 2.06-.94-2.06-.94-.94-2.06-.94 2.06-2.06.94zm-11 1L8.5 8.5l.94-2.06 2.06-.94-2.06-.94L8.5 2.5l-.94 2.06-2.06.94zm10 10l.94 2.06.94-2.06 2.06-.94-2.06-.94-.94-2.06-.94 2.06-2.06.94z\"/><path d=\"M17.41 7.96l-1.37-1.37c-.4-.4-.92-.59-1.43-.59-.52 0-1.04.2-1.43.59L10.3 9.45l-7.72 7.72c-.78.78-.78 2.05 0 2.83L4 21.41c.39.39.9.59 1.41.59.51 0 1.02-.2 1.41-.59l7.78-7.78 2.81-2.81c.8-.78.8-2.07 0-2.86zM5.41 20L4 18.59l7.72-7.72 1.47 1.35L5.41 20z\"/>\n",
              "  </svg>\n",
              "      </button>\n",
              "      \n",
              "  <style>\n",
              "    .colab-df-container {\n",
              "      display:flex;\n",
              "      flex-wrap:wrap;\n",
              "      gap: 12px;\n",
              "    }\n",
              "\n",
              "    .colab-df-convert {\n",
              "      background-color: #E8F0FE;\n",
              "      border: none;\n",
              "      border-radius: 50%;\n",
              "      cursor: pointer;\n",
              "      display: none;\n",
              "      fill: #1967D2;\n",
              "      height: 32px;\n",
              "      padding: 0 0 0 0;\n",
              "      width: 32px;\n",
              "    }\n",
              "\n",
              "    .colab-df-convert:hover {\n",
              "      background-color: #E2EBFA;\n",
              "      box-shadow: 0px 1px 2px rgba(60, 64, 67, 0.3), 0px 1px 3px 1px rgba(60, 64, 67, 0.15);\n",
              "      fill: #174EA6;\n",
              "    }\n",
              "\n",
              "    [theme=dark] .colab-df-convert {\n",
              "      background-color: #3B4455;\n",
              "      fill: #D2E3FC;\n",
              "    }\n",
              "\n",
              "    [theme=dark] .colab-df-convert:hover {\n",
              "      background-color: #434B5C;\n",
              "      box-shadow: 0px 1px 3px 1px rgba(0, 0, 0, 0.15);\n",
              "      filter: drop-shadow(0px 1px 2px rgba(0, 0, 0, 0.3));\n",
              "      fill: #FFFFFF;\n",
              "    }\n",
              "  </style>\n",
              "\n",
              "      <script>\n",
              "        const buttonEl =\n",
              "          document.querySelector('#df-74c14572-838b-43c1-b862-b7785728c425 button.colab-df-convert');\n",
              "        buttonEl.style.display =\n",
              "          google.colab.kernel.accessAllowed ? 'block' : 'none';\n",
              "\n",
              "        async function convertToInteractive(key) {\n",
              "          const element = document.querySelector('#df-74c14572-838b-43c1-b862-b7785728c425');\n",
              "          const dataTable =\n",
              "            await google.colab.kernel.invokeFunction('convertToInteractive',\n",
              "                                                     [key], {});\n",
              "          if (!dataTable) return;\n",
              "\n",
              "          const docLinkHtml = 'Like what you see? Visit the ' +\n",
              "            '<a target=\"_blank\" href=https://colab.research.google.com/notebooks/data_table.ipynb>data table notebook</a>'\n",
              "            + ' to learn more about interactive tables.';\n",
              "          element.innerHTML = '';\n",
              "          dataTable['output_type'] = 'display_data';\n",
              "          await google.colab.output.renderOutput(dataTable, element);\n",
              "          const docLink = document.createElement('div');\n",
              "          docLink.innerHTML = docLinkHtml;\n",
              "          element.appendChild(docLink);\n",
              "        }\n",
              "      </script>\n",
              "    </div>\n",
              "  </div>\n",
              "  "
            ]
          },
          "metadata": {},
          "execution_count": 16
        }
      ]
    }
  ],
  "metadata": {
    "kernelspec": {
      "display_name": "Python 3",
      "language": "python",
      "name": "python3"
    },
    "language_info": {
      "codemirror_mode": {
        "name": "ipython",
        "version": 3
      },
      "file_extension": ".py",
      "mimetype": "text/x-python",
      "name": "python",
      "nbconvert_exporter": "python",
      "pygments_lexer": "ipython3",
      "version": "3.7.6"
    },
    "colab": {
      "name": "Raspagem_Dados_Municipios_IBGE-MG.ipynb",
      "provenance": []
    }
  },
  "nbformat": 4,
  "nbformat_minor": 0
}